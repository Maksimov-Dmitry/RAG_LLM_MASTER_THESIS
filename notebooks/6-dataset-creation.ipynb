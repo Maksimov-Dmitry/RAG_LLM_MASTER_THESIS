{
 "cells": [
  {
   "cell_type": "code",
   "execution_count": 2,
   "metadata": {},
   "outputs": [],
   "source": [
    "import base64\n",
    "import requests\n",
    "\n",
    "# Function to encode the image\n",
    "def encode_image(image_path):\n",
    "  with open(image_path, \"rb\") as image_file:\n",
    "    return base64.b64encode(image_file.read()).decode('utf-8')"
   ]
  },
  {
   "cell_type": "code",
   "execution_count": 3,
   "metadata": {},
   "outputs": [
    {
     "data": {
      "text/plain": [
       "True"
      ]
     },
     "execution_count": 3,
     "metadata": {},
     "output_type": "execute_result"
    }
   ],
   "source": [
    "from dotenv import load_dotenv\n",
    "import os\n",
    "load_dotenv()"
   ]
  },
  {
   "cell_type": "code",
   "execution_count": 4,
   "metadata": {},
   "outputs": [],
   "source": [
    "api_key = os.getenv(\"OPENAI_API_KEY\")"
   ]
  },
  {
   "cell_type": "code",
   "execution_count": 36,
   "metadata": {},
   "outputs": [],
   "source": [
    "# image_path = '../data/images/GS 95006-7-5 Kfz-Kontaktierungen Überwachungskriterien von Crimp-1/5.png'\n",
    "image_path = '../data/images/Schaefer-Crimping-Machine-EPS-2001-STI2015-v5-de-web/3.png'\n",
    "base64_image = encode_image(image_path)"
   ]
  },
  {
   "cell_type": "code",
   "execution_count": 37,
   "metadata": {},
   "outputs": [],
   "source": [
    "prompt_template = \"\"\"\n",
    "Geben Sie die Bildinformationen und kein Vorwissen an. Generieren Sie nur Fragen, die auf der untenstehenden Abfrage basieren.\n",
    "  \n",
    "  Sie sind ein Lehrer/Professor. Ihre Aufgabe ist es, 5 Fragen für ein bevorstehendes Quiz/eine Prüfung zu erstellen. \n",
    "  Die Fragen sollten sich auf das Bild beziehen. Fragen Sie nicht, was auf dem Bild zu sehen ist, da es in der Prüfung kein Diagramm geben wird. Beschränken Sie die Fragen auf die bereitgestellten Kontextinformationen.\n",
    "  Wenn Sie meinen, dass 5 Fragen zu viel für dieses Bild sind, können Sie die Anzahl der Fragen reduzieren.\n",
    "Bitte geben Sie die Antwort im JSON-Format zurück:\n",
    "[{Frage: Antwort}, {Frage: Antwort}]\n",
    "Beispiel:\n",
    "[\n",
    "  {\"Was beschreibt der Begriff 'Headroom' im Kontext der Crimp-Kontaktierung?\": \"Der Abstand des gemittelten Spitzenwerts der Gut-Crimps und des gemittelten Spitzenwerts der Leer-Crimps.\"},\n",
    "  {\"Wie wird die Streuung der Spitzenwerte bei Gut-Crimps gemessen?\": \"Als Standardabweichung der Messwerte relativ zum gemittelten Spitzenwert, in Prozent ausgedrückt.\"},\n",
    "  {\"Was ist der Unterschied zwischen den Mittelwerten der Crimp-Kraftkurve von Gut-Crimp und Leer-Crimp?\": \"Der Mittelwert der Crimp-Kraftkurve von Gut-Crimp ist der durchschnittliche Wert der guten Crimps, während der Mittelwert der Crimp-Kraftkurve von Leer-Crimp der Durchschnittswert der Leer-Crimps ohne Draht ist.\"},\n",
    "  {\"Welche Information liefert der maximale Kraftwert (Fmax) einer Crimp-Kraftkurve?\": \"Er gibt die höchste Kraft an, die während des Crimp-Vorgangs aufgezeichnet wurde.\"},\n",
    "  {\"Was könnte ein hoher Headroom-Wert bei der Crimp-Kontaktierung andeuten?\": \"Ein hoher Headroom-Wert könnte auf Probleme wie fehlende Drähte oder Isolationsfehler im Crimp hinweisen.\"}\n",
    "]\n",
    "  \"\"\""
   ]
  },
  {
   "cell_type": "code",
   "execution_count": 39,
   "metadata": {},
   "outputs": [
    {
     "name": "stdout",
     "output_type": "stream",
     "text": [
      "\n",
      "Geben Sie die Bildinformationen und kein Vorwissen an. Generieren Sie nur Fragen, die auf der untenstehenden Abfrage basieren.\n",
      "  \n",
      "  Sie sind ein Lehrer/Professor. Ihre Aufgabe ist es, 5 Fragen für ein bevorstehendes Quiz/eine Prüfung zu erstellen. \n",
      "  Die Fragen sollten sich auf das Bild beziehen. Fragen Sie nicht, was auf dem Bild zu sehen ist, da es in der Prüfung kein Diagramm geben wird. Beschränken Sie die Fragen auf die bereitgestellten Kontextinformationen.\n",
      "  Wenn Sie meinen, dass 5 Fragen zu viel für dieses Bild sind, können Sie die Anzahl der Fragen reduzieren.\n",
      "Bitte geben Sie die Antwort im JSON-Format zurück:\n",
      "[{Frage: Antwort}, {Frage: Antwort}]\n",
      "Beispiel:\n",
      "[\n",
      "  {\"Was beschreibt der Begriff 'Headroom' im Kontext der Crimp-Kontaktierung?\": \"Der Abstand des gemittelten Spitzenwerts der Gut-Crimps und des gemittelten Spitzenwerts der Leer-Crimps.\"},\n",
      "  {\"Wie wird die Streuung der Spitzenwerte bei Gut-Crimps gemessen?\": \"Als Standardabweichung der Messwerte relativ zum gemittelten Spitzenwert, in Prozent ausgedrückt.\"},\n",
      "  {\"Was ist der Unterschied zwischen den Mittelwerten der Crimp-Kraftkurve von Gut-Crimp und Leer-Crimp?\": \"Der Mittelwert der Crimp-Kraftkurve von Gut-Crimp ist der durchschnittliche Wert der guten Crimps, während der Mittelwert der Crimp-Kraftkurve von Leer-Crimp der Durchschnittswert der Leer-Crimps ohne Draht ist.\"},\n",
      "  {\"Welche Information liefert der maximale Kraftwert (Fmax) einer Crimp-Kraftkurve?\": \"Er gibt die höchste Kraft an, die während des Crimp-Vorgangs aufgezeichnet wurde.\"},\n",
      "  {\"Was könnte ein hoher Headroom-Wert bei der Crimp-Kontaktierung andeuten?\": \"Ein hoher Headroom-Wert könnte auf Probleme wie fehlende Drähte oder Isolationsfehler im Crimp hinweisen.\"}\n",
      "]\n",
      "  \n"
     ]
    }
   ],
   "source": [
    "print(prompt_template)"
   ]
  },
  {
   "cell_type": "code",
   "execution_count": 40,
   "metadata": {},
   "outputs": [
    {
     "name": "stdout",
     "output_type": "stream",
     "text": [
      "{'id': 'chatcmpl-8QbZFfQ3VW0p3bO8hFep36pmJHO68', 'object': 'chat.completion', 'created': 1701351629, 'model': 'gpt-4-1106-vision-preview', 'usage': {'prompt_tokens': 1258, 'completion_tokens': 215, 'total_tokens': 1473}, 'choices': [{'message': {'role': 'assistant', 'content': '[\\n  {\"Welche Art von Materialien kann mit der Schaefer-Crimping-Maschine EPS-2001-STI2015 verarbeitet werden?\": \"Einzeladern oder mehradrige Mantelleitungen mit einem Drahtquerschnitt bis zu 6 mm².\"},\\n  {\"Welche Antriebsart verwendet die Schaefer-Crimping-Maschine EPS-2001-STI2015?\": \"0,75 kW Drehstrommotor.\"},\\n  {\"Was ist die maximale Presskraft, die von der Schaefer-Crimping-Maschine EPS-2001-STI2015 ausgeübt werden kann?\": \"20 kN.\"},\\n  {\"Welche Schnittstellen bietet die Schaefer-Crimping-Maschine EPS-2001-STI2015?\": \"Touchscreen, RJ-45 Netzwerkanschluss.\"},\\n  {\"Wie schwer ist die Schaefer-Crimping-Maschine EPS-2001-STI2015?\": \"112 kg.\"}\\n]'}, 'finish_details': {'type': 'stop', 'stop': '<|fim_suffix|>'}, 'index': 0}]}\n"
     ]
    }
   ],
   "source": [
    "headers = {\n",
    "  \"Content-Type\": \"application/json\",\n",
    "  \"Authorization\": f\"Bearer {api_key}\"\n",
    "}\n",
    "\n",
    "payload = {\n",
    "  \"model\": \"gpt-4-vision-preview\",\n",
    "  \"messages\": [\n",
    "    {\n",
    "      \"role\": \"user\",\n",
    "      \"content\": [\n",
    "        {\n",
    "          \"type\": \"text\",\n",
    "          \"text\": prompt_template\n",
    "        },\n",
    "        {\n",
    "          \"type\": \"image_url\",\n",
    "          \"image_url\": {\n",
    "            \"url\": f\"data:image/jpeg;base64,{base64_image}\"\n",
    "          }\n",
    "        }\n",
    "      ]\n",
    "    }\n",
    "  ],\n",
    "  \"max_tokens\": 512\n",
    "}\n",
    "\n",
    "response = requests.post(\"https://api.openai.com/v1/chat/completions\", headers=headers, json=payload)\n",
    "\n",
    "print(response.json())"
   ]
  },
  {
   "cell_type": "code",
   "execution_count": 41,
   "metadata": {},
   "outputs": [
    {
     "data": {
      "text/plain": [
       "'[\\n  {\"Welche Art von Materialien kann mit der Schaefer-Crimping-Maschine EPS-2001-STI2015 verarbeitet werden?\": \"Einzeladern oder mehradrige Mantelleitungen mit einem Drahtquerschnitt bis zu 6 mm².\"},\\n  {\"Welche Antriebsart verwendet die Schaefer-Crimping-Maschine EPS-2001-STI2015?\": \"0,75 kW Drehstrommotor.\"},\\n  {\"Was ist die maximale Presskraft, die von der Schaefer-Crimping-Maschine EPS-2001-STI2015 ausgeübt werden kann?\": \"20 kN.\"},\\n  {\"Welche Schnittstellen bietet die Schaefer-Crimping-Maschine EPS-2001-STI2015?\": \"Touchscreen, RJ-45 Netzwerkanschluss.\"},\\n  {\"Wie schwer ist die Schaefer-Crimping-Maschine EPS-2001-STI2015?\": \"112 kg.\"}\\n]'"
      ]
     },
     "execution_count": 41,
     "metadata": {},
     "output_type": "execute_result"
    }
   ],
   "source": [
    "response.json()['choices'][0]['message']['content']"
   ]
  }
 ],
 "metadata": {
  "kernelspec": {
   "display_name": ".venv",
   "language": "python",
   "name": "python3"
  },
  "language_info": {
   "codemirror_mode": {
    "name": "ipython",
    "version": 3
   },
   "file_extension": ".py",
   "mimetype": "text/x-python",
   "name": "python",
   "nbconvert_exporter": "python",
   "pygments_lexer": "ipython3",
   "version": "3.10.11"
  }
 },
 "nbformat": 4,
 "nbformat_minor": 2
}
