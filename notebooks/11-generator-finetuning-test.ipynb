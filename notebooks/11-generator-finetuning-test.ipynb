{
 "cells": [
  {
   "cell_type": "code",
   "execution_count": 1,
   "metadata": {},
   "outputs": [],
   "source": [
    "from datasets import load_from_disk\n",
    "from datasets.filesystems import S3FileSystem"
   ]
  },
  {
   "cell_type": "code",
   "execution_count": 2,
   "metadata": {},
   "outputs": [],
   "source": [
    "from omegaconf import OmegaConf\n",
    "params = OmegaConf.load('../configs/predict_generator_config.yaml')"
   ]
  },
  {
   "cell_type": "code",
   "execution_count": 3,
   "metadata": {},
   "outputs": [
    {
     "data": {
      "text/plain": [
       "'dmitrii/results/retriever_predictions'"
      ]
     },
     "execution_count": 3,
     "metadata": {},
     "output_type": "execute_result"
    }
   ],
   "source": [
    "params.input"
   ]
  },
  {
   "cell_type": "code",
   "execution_count": 4,
   "metadata": {},
   "outputs": [
    {
     "data": {
      "text/plain": [
       "'s3://tcr-internal/dmitrii/results/retriever_predictions'"
      ]
     },
     "execution_count": 4,
     "metadata": {},
     "output_type": "execute_result"
    }
   ],
   "source": [
    "f's3://{params.bucket_name}/{params.input}'"
   ]
  },
  {
   "cell_type": "code",
   "execution_count": 5,
   "metadata": {},
   "outputs": [
    {
     "name": "stderr",
     "output_type": "stream",
     "text": [
      "/Users/dmitriimaksimov/Desktop/GitHub/master_thesis_RAG_LLM/.venv/lib/python3.10/site-packages/fsspec/spec.py:79: FutureWarning: S3FileSystem is deprecated and will be removed in the next major version of datasets. Use s3fs.S3FileSystem instead.\n",
      "  obj = super().__call__(*args, **kwargs)\n",
      "/Users/dmitriimaksimov/Desktop/GitHub/master_thesis_RAG_LLM/.venv/lib/python3.10/site-packages/fsspec/registry.py:272: UserWarning: Your installed version of s3fs is very old and known to cause\n",
      "severe performance issues, see also https://github.com/dask/dask/issues/10276\n",
      "\n",
      "To fix, you should specify a lower version bound on s3fs, or\n",
      "update the current installation.\n",
      "\n",
      "  warnings.warn(s3_msg)\n"
     ]
    }
   ],
   "source": [
    "s3 = S3FileSystem()\n",
    "dataset = load_from_disk(f's3://{params.bucket_name}/{params.input}', storage_options=s3.storage_options)"
   ]
  },
  {
   "cell_type": "code",
   "execution_count": 6,
   "metadata": {},
   "outputs": [],
   "source": [
    "my_dataset = load_from_disk('../results/retriever_predictions/')"
   ]
  },
  {
   "cell_type": "code",
   "execution_count": 14,
   "metadata": {},
   "outputs": [],
   "source": [
    "import sys\n",
    "sys.path.append('../')\n",
    "from src.evaluation.evaluation import calculate_HitRate, calculate_DocHitRate"
   ]
  },
  {
   "cell_type": "code",
   "execution_count": 25,
   "metadata": {},
   "outputs": [],
   "source": [
    "hit_rate = calculate_HitRate(dataset['val'])"
   ]
  },
  {
   "cell_type": "code",
   "execution_count": 26,
   "metadata": {},
   "outputs": [
    {
     "data": {
      "text/plain": [
       "0.7049180327868853"
      ]
     },
     "execution_count": 26,
     "metadata": {},
     "output_type": "execute_result"
    }
   ],
   "source": [
    "hit_rate"
   ]
  },
  {
   "cell_type": "code",
   "execution_count": 16,
   "metadata": {},
   "outputs": [],
   "source": [
    "hit_rate = calculate_HitRate(my_dataset['train'])"
   ]
  },
  {
   "cell_type": "code",
   "execution_count": 20,
   "metadata": {},
   "outputs": [
    {
     "data": {
      "text/plain": [
       "0.9142656359803233"
      ]
     },
     "execution_count": 20,
     "metadata": {},
     "output_type": "execute_result"
    }
   ],
   "source": [
    "hit_rate"
   ]
  },
  {
   "cell_type": "code",
   "execution_count": 9,
   "metadata": {},
   "outputs": [
    {
     "data": {
      "text/plain": [
       "{'question': 'Welchen Durchmesser hat die Abschirmung der USB-Kabeltypen gemäß der angegebenen Spezifikationen?',\n",
       " 'ground_truth': '3,20 mm und 4,10 mm',\n",
       " 'page': 75,\n",
       " 'document': 'leoni_fahrzeugleitungen',\n",
       " 'contexts': ['57 Fahrzeugleitungen mehradrig LEONI   Adascar ® www.leoni-automotive-cables.com\\nAdvanced Automotive Special Cables.\\nAderdurchmesser nom. Manteldurchmesser nom. Abschirmung Adermaterial Mantelmaterial Leiterwiderstand   max. Betriebstemperatur\\n[mm] [mm] [ Ω /km] [°C]\\n2,10 7,30 – PVC PVC 37,1 –40 bis +105\\n1,80 4,80 – PVC PVC 24,7 –40 bis +125\\n1,25 6,30 – PVC TPE-U 55,5 –40 bis +105\\n1,50 6,30 – ETFE TPE-U 38,2 –40 bis +125\\n2,20 6,20 – TPE-U TPE-U 25,4 –40 bis +125\\n1,40 4,20 – TPE-S TPE-O 54,4 –40 bis +90\\n1,55 5,50 – TPE-O TPE-U 37,1 –40 bis +125\\n1,05 6,30 – ETFE TPE-U 86,5 –40 bis +125\\n1,00 3,70 – TPE-E TPE-U 86,5 –40 bis +125\\n1,10 4,50 – TPE-E TPE-U 86,5 –30 bis +85\\n1,14 3,80 – TPE-E TPE-U 72,9 –40 bis +105\\n2,80 7,00 C PVC PVC 7,6 –40 bis +105\\n2,00 8,00 B PVC PVC 18,5 –40 bis +105\\n2,30 6,40 B PVC PVC 12,7 –40 bis +105\\n1,55 5,00 B PVC PVC 37,1 –40 bis +105\\n1,25 3,90 B PVC PVC 54,4 –40 bis +105\\n1,25 4,50 B PVC PVC 54,4 –40 bis +105\\n1,05 4,60 C PVC PVC 132,0 –40 bis +105\\n1,30 3,10 B PVC PVC 54,4 –40 bis +105\\n1,30 4,00 B TPE-E TPE-U 54,4 –40 bis +125\\n2,00 5,60 B PVC TPE-U 18,5 –40 bis +105\\n1,00 6,70 C ETFE TPE-U 86,5 –40 bis +125',\n",
       "  '59 Fahrzeugleitungen mehradrig LEONI   Adascar ®\\nAdvanced Automotive Special Cables.\\nwww.leoni-automotive-cables.com\\nAderdurchmesser nom. Manteldurchmesser nom. Abschirmung Adermaterial Mantelmaterial Leiterwiderstand   max. Betriebstemperatur\\n[mm] [mm] [ Ω /km] [°C]\\n1,55 4,45 – PVC PVC 37,1 –40 bis +105\\n1,80 4,90 – PVC PVC 24,7 –40 bis +105\\n– 3,80 x 1,80 ✖ – – PVC 54,4 –40 bis +105\\n– 4,40 x 2,10 ✖ – – PVC 37,1 –40 bis +105\\n– 4,40 x 2,10 ✖ – – PVC 24,7 –40 bis +105\\n– 3,80 x 1,90 ✖ – – PVC 18,5 –40 bis +105\\n– 5,60 x 2,80 ✖ – – PVC 12,7 –40 bis +105\\n– 5,20 x 2,60 ✖ – – PVC 7,6 –40 bis +105',\n",
       "  '\\nLEONI Dacar®  536 76981040A 4x0,14 Cu verzinnt / PVC-AL / C-Schirm 3,40\\nUSB\\nLEONI Dacar®  516 76981063A (2x0,089)+2x0,24+(0,089) Cu verzinnt / PETP-AL / C-Schirm 3,20\\nLEONI Dacar®  518 76981065A (2x0,35)+2x0,35+(0,35) Cu blank / PETP-AL / C-Schirm 4,10\\nLEONI Dacar®  566 76981117 4x0,5 Cu bland/PETP-AL/C-Schirm 4,60\\nEthernet\\nLEONI Dacar®  617 76D00105 2x0,17 Cu blank/kein Schirm –\\nLEONI Dacar®  618 76D00113 2x0,17 Cu blank/kein Schirm –\\nLEONI Dacar®  625-2 76D00223 4x0,35 Cu blank/kein Schirm –\\nDie Tabelle zeigt lediglich Konstruktionsbeispiele – bitte kontaktieren Sie uns für weitere Ausführungen.\\nLVDS + Bus-Systeme    Datenübertragungsleitungen'],\n",
       " 'distances': [0.4486888647079468, 0.4650402069091797, 0.47152286767959595],\n",
       " 'contexts_pages': [56, 58, 75],\n",
       " 'contexts_documents': ['leoni_fahrzeugleitungen',\n",
       "  'leoni_fahrzeugleitungen',\n",
       "  'leoni_fahrzeugleitungen']}"
      ]
     },
     "execution_count": 9,
     "metadata": {},
     "output_type": "execute_result"
    }
   ],
   "source": [
    "my_dataset['train'][14]"
   ]
  },
  {
   "cell_type": "code",
   "execution_count": 10,
   "metadata": {},
   "outputs": [
    {
     "data": {
      "text/plain": [
       "{'question': 'Welchen Durchmesser hat die Abschirmung der USB-Kabeltypen gemäß der angegebenen Spezifikationen?',\n",
       " 'ground_truth': '3,20 mm und 4,10 mm',\n",
       " 'page': 75,\n",
       " 'document': 'leoni_fahrzeugleitungen',\n",
       " 'contexts': ['57 Fahrzeugleitungen mehradrig LEONI   Adascar ® www.leoni-automotive-cables.com\\nAdvanced Automotive Special Cables.\\nAderdurchmesser nom. Manteldurchmesser nom. Abschirmung Adermaterial Mantelmaterial Leiterwiderstand   max. Betriebstemperatur\\n[mm] [mm] [ Ω /km] [°C]\\n2,10 7,30 – PVC PVC 37,1 –40 bis +105\\n1,80 4,80 – PVC PVC 24,7 –40 bis +125\\n1,25 6,30 – PVC TPE-U 55,5 –40 bis +105\\n1,50 6,30 – ETFE TPE-U 38,2 –40 bis +125\\n2,20 6,20 – TPE-U TPE-U 25,4 –40 bis +125\\n1,40 4,20 – TPE-S TPE-O 54,4 –40 bis +90\\n1,55 5,50 – TPE-O TPE-U 37,1 –40 bis +125\\n1,05 6,30 – ETFE TPE-U 86,5 –40 bis +125\\n1,00 3,70 – TPE-E TPE-U 86,5 –40 bis +125\\n1,10 4,50 – TPE-E TPE-U 86,5 –30 bis +85\\n1,14 3,80 – TPE-E TPE-U 72,9 –40 bis +105\\n2,80 7,00 C PVC PVC 7,6 –40 bis +105\\n2,00 8,00 B PVC PVC 18,5 –40 bis +105\\n2,30 6,40 B PVC PVC 12,7 –40 bis +105\\n1,55 5,00 B PVC PVC 37,1 –40 bis +105\\n1,25 3,90 B PVC PVC 54,4 –40 bis +105\\n1,25 4,50 B PVC PVC 54,4 –40 bis +105\\n1,05 4,60 C PVC PVC 132,0 –40 bis +105\\n1,30 3,10 B PVC PVC 54,4 –40 bis +105\\n1,30 4,00 B TPE-E TPE-U 54,4 –40 bis +125\\n2,00 5,60 B PVC TPE-U 18,5 –40 bis +105\\n1,00 6,70 C ETFE TPE-U 86,5 –40 bis +125',\n",
       "  '59 Fahrzeugleitungen mehradrig LEONI   Adascar ®\\nAdvanced Automotive Special Cables.\\nwww.leoni-automotive-cables.com\\nAderdurchmesser nom. Manteldurchmesser nom. Abschirmung Adermaterial Mantelmaterial Leiterwiderstand   max. Betriebstemperatur\\n[mm] [mm] [ Ω /km] [°C]\\n1,55 4,45 – PVC PVC 37,1 –40 bis +105\\n1,80 4,90 – PVC PVC 24,7 –40 bis +105\\n– 3,80 x 1,80 ✖ – – PVC 54,4 –40 bis +105\\n– 4,40 x 2,10 ✖ – – PVC 37,1 –40 bis +105\\n– 4,40 x 2,10 ✖ – – PVC 24,7 –40 bis +105\\n– 3,80 x 1,90 ✖ – – PVC 18,5 –40 bis +105\\n– 5,60 x 2,80 ✖ – – PVC 12,7 –40 bis +105\\n– 5,20 x 2,60 ✖ – – PVC 7,6 –40 bis +105',\n",
       "  '\\nLEONI Dacar®  536 76981040A 4x0,14 Cu verzinnt / PVC-AL / C-Schirm 3,40\\nUSB\\nLEONI Dacar®  516 76981063A (2x0,089)+2x0,24+(0,089) Cu verzinnt / PETP-AL / C-Schirm 3,20\\nLEONI Dacar®  518 76981065A (2x0,35)+2x0,35+(0,35) Cu blank / PETP-AL / C-Schirm 4,10\\nLEONI Dacar®  566 76981117 4x0,5 Cu bland/PETP-AL/C-Schirm 4,60\\nEthernet\\nLEONI Dacar®  617 76D00105 2x0,17 Cu blank/kein Schirm –\\nLEONI Dacar®  618 76D00113 2x0,17 Cu blank/kein Schirm –\\nLEONI Dacar®  625-2 76D00223 4x0,35 Cu blank/kein Schirm –\\nDie Tabelle zeigt lediglich Konstruktionsbeispiele – bitte kontaktieren Sie uns für weitere Ausführungen.\\nLVDS + Bus-Systeme    Datenübertragungsleitungen'],\n",
       " 'distances': [0.4486888647079468, 0.4650402069091797, 0.47152286767959595],\n",
       " 'contexts_pages': [56, 58, 75],\n",
       " 'contexts_documents': ['leoni_fahrzeugleitungen',\n",
       "  'leoni_fahrzeugleitungen',\n",
       "  'leoni_fahrzeugleitungen']}"
      ]
     },
     "execution_count": 10,
     "metadata": {},
     "output_type": "execute_result"
    }
   ],
   "source": [
    "dataset['train'][14]"
   ]
  },
  {
   "cell_type": "code",
   "execution_count": 35,
   "metadata": {},
   "outputs": [
    {
     "data": {
      "text/plain": [
       "Dataset({\n",
       "    features: ['question', 'ground_truth', 'page', 'document', 'contexts', 'distances', 'contexts_pages', 'contexts_documents'],\n",
       "    num_rows: 1423\n",
       "})"
      ]
     },
     "execution_count": 35,
     "metadata": {},
     "output_type": "execute_result"
    }
   ],
   "source": [
    "dataset['train']"
   ]
  },
  {
   "cell_type": "code",
   "execution_count": 36,
   "metadata": {},
   "outputs": [],
   "source": [
    "def ds_preprocessing(row):\n",
    "    for i, doc in enumerate(row['contexts_documents']):\n",
    "        if doc == row['document'] and row['page'] == row['contexts_pages'][i]:\n",
    "            row['ground_truth'] = row['ground_truth']\n",
    "            return row\n",
    "    row['ground_truth'] = 'Leider kann ich diese Frage nicht einmal mit den bereitgestellten Informationen beantworten'\n",
    "    return row\n",
    "    "
   ]
  },
  {
   "cell_type": "code",
   "execution_count": 38,
   "metadata": {},
   "outputs": [],
   "source": [
    "dataset = dataset.map(ds_preprocessing)"
   ]
  },
  {
   "cell_type": "code",
   "execution_count": 40,
   "metadata": {},
   "outputs": [
    {
     "data": {
      "text/plain": [
       "['Überwachung und Qualitätssicherung der Crimp-Kontaktierung',\n",
       " 'TPE-U oder TPE-A/TPE-E',\n",
       " 'Länge des Drahtcrimps (100 %)',\n",
       " 'Stellen Sie die Höhe der Presse ein.',\n",
       " 'ISO 6722-1',\n",
       " 'LEONI Adascar® Truck 10504 mit 84 Einzeldrähten.',\n",
       " 'PVC',\n",
       " 'Sie dienen zur Bestimmung des Durchgangswiderstands der Verkabelung.',\n",
       " 'Der Abstand von den äußeren Enden der Crimpflanken bis zum Ende der Crimpzunge.',\n",
       " 'Die Breite des Crimps, die mit einem Messgerät bestimmt werden kann.',\n",
       " 'Die Anpassung an die Eigenschaften individueller vorhandener Kontakte.',\n",
       " 'Die Streuung in Prozent ist die Standardabweichung relativ zum arithmetischen Mittelwert der Gut-Crimps, ausgedrückt in Prozent.',\n",
       " '1,5 Stunden',\n",
       " 'Die Antwort ist nicht im gegebenen Text enthalten, da der Abschnitt 5.1 nicht gezeigt wird.',\n",
       " '3,20 mm und 4,10 mm',\n",
       " 'min. 99,85%',\n",
       " 'Der Leiterdurchmesser von Control 87010 ist 0,19 mm und von Control 87020 ist 0,26 mm.',\n",
       " \"Werkzeugmacher-Mikroskop (Toolmaker's Microscope).\",\n",
       " 'Abschmelzungen in der Kontaktzone sind nicht zulässig.',\n",
       " 'Bis 600 V',\n",
       " 'Umweltprüfverfahren',\n",
       " '50 °C',\n",
       " 'Leider kann ich diese Frage nicht einmal mit den bereitgestellten Informationen beantworten',\n",
       " '120 Stunden',\n",
       " 'Für beide Kabeltypen, FL11Y und FLYY',\n",
       " 'Abschnitt 8',\n",
       " 'Es muss 1 abgetrennter Einzeldraht sicher erkannt werden.',\n",
       " 'Mehr als 100 MΩ bei 500 V DC',\n",
       " '3 Kontaktpaare',\n",
       " 'Der Außendurchmesser gibt die Gesamtstärke der Leitung an und ist wichtig für die räumliche Planung bei der Verkabelung.',\n",
       " '0,5 mm² mit 60 N (75 N) und 1,0 mm² mit 108 N (125 N)',\n",
       " 'Die LV erhebt keinen Anspruch auf Vollständigkeit.',\n",
       " 'Der Konfektionär.',\n",
       " 'Test für Kontaktteile (Test auf See-Transport bzw. küstennahen Einsatz).',\n",
       " 'bewerten',\n",
       " 'Die Prüfung dauert 144 Zyklen.',\n",
       " 'Leider kann ich diese Frage nicht einmal mit den bereitgestellten Informationen beantworten',\n",
       " 'Sie dient als Verbindungselement am anderen Ende der Crimphülse, entgegengesetzt zur Anbindung A.',\n",
       " 'Mindestens 10 Kontaktlebenszyklen',\n",
       " 'Während der Qualitätsprüfung oder bei der Beobachtung von Abweichungen im Crimp-Prozess.',\n",
       " 'Die Vorgabe klarer Kriterien für die Qualitätssicherung und Zuverlässigkeitsprüfung von Crimpverbindungen.',\n",
       " 'Mindestens 10 Kontaktzyklen.',\n",
       " '24',\n",
       " 'In der Kontakt- und Kabelverarbeitung.',\n",
       " '61,00 pF/m',\n",
       " 'Kontakthaltekraft im Gehäuse, nur Sekundärverriegelung',\n",
       " 'Die Prüfung B dauert 2 Stunden bei einer Temperatur von 60 °C.',\n",
       " 'Die Ausführung des Auslaufs an der Hinterkante des Leitercrimps sollte glockenförmig sein.',\n",
       " 'Vorrang.',\n",
       " 'Alle Teile eines Fertigungszyklus sind zu berücksichtigen (Mehrfachabdruck / Mehrfachvarianten beachten).',\n",
       " 'Die Differenz zwischen dem höchsten und dem niedrigsten gemessenen Widerstandswert über der Vorlastung (Neuzustand) bzw. über den gesamten Bewegungsphasen.',\n",
       " '80 °C',\n",
       " 'Spannung',\n",
       " 'Die Terminalposition wird durch die Ausrichtung des Terminals zu den Formstempeln und Ambossen sowie durch den Einsatz des Abschneidwerkzeugs bestimmt.',\n",
       " '300 Gut-Crimps.',\n",
       " 'Die Kontaktüberdeckung versteht man die Länge, mit der ein Kontaktsift mit vollem Querschnitt in die Kontaktbuchse eintaucht.',\n",
       " '1,85 mm Aderdurchmesser und 5,10 mm Manteldurchmesser',\n",
       " 'Nein, es ist nicht dazu gedacht, individuelle Produkt- oder Werkzeugspezifikationen zu ersetzen.',\n",
       " 'Der Mittelwert abzüglich 3 x Standardabweichung muss größer als die minimale Leiterausreißkraft sein.',\n",
       " '23 °C ± 1 °C.',\n",
       " 'Weil es eine schnelle, zerstörungsfreie Messung ist, die für die Zuverlässigkeit der elektrischen und mechanischen Verbindungen kritisch ist.',\n",
       " 'Flachleitung',\n",
       " 'Es sollte die Verschleißfestigkeit der Crimpzange überprüft und diese ggf. ausgetauscht und neu justiert werden.',\n",
       " 'Jede Raststelle wird separat geprüft.',\n",
       " 'Zulässige Übertragbarkeiten sind nur in genannter Richtung und nur bei gleicher Kontakt Schadummer zulässig.',\n",
       " '50 N',\n",
       " 'Leider kann ich diese Frage nicht einmal mit den bereitgestellten Informationen beantworten',\n",
       " 'Gar nicht',\n",
       " '66',\n",
       " '4,016 Milliohm pro Fuß',\n",
       " 'Alle Messwerte müssen tabellarisch erfasst und dokumentiert werden.',\n",
       " '0,13 mm',\n",
       " 'Die Geschäftseinheit zielt auf einzigartige Fahrzeuglösungen in den Weltmärkten und bietet ein umfangreiches Produktpalette für verschiedene OEM- und Tier-1-Freigaben.',\n",
       " 'DIN CNTS 13388',\n",
       " 'Process Control wird verwendet, um Änderungen im Crimp-Prozess zu erkennen und vorzubeugen, indem sie Veränderungen an den Prozessattributen erkennt.',\n",
       " 'Jeweilige Einzelwerte (Gut-Crimpungen)',\n",
       " 'Es sollte ein neuer CPA eingesetzt werden.',\n",
       " 'Es könnte auf eine regelmäßige oder zyklische Aktivität innerhalb des Prozesses hinweisen.',\n",
       " 'VW 75174',\n",
       " 'Leider kann ich diese Frage nicht einmal mit den bereitgestellten Informationen beantworten',\n",
       " 'Sie unterstützt ihre Kunden mit maßgeschneiderten Lösungen für die Verkabelung ihrer Produkte.',\n",
       " 'Eine Leitfähigkeit im weichen Zustand von ≥ 35,5 m/Ωmm² bei 20 °C.',\n",
       " '95 % IACS',\n",
       " 'Die Handhabung (Stecken und Ziehen) muss nach dem Test gegeben sein.',\n",
       " 'Funktionelle Bewertung der vom Hersteller genannten oberen Grenztemperatur (T_{max}) des Kontaktsystems und der Normalwerte.',\n",
       " '-40 °C bis +105 °C',\n",
       " 'LEONI Adascar® Truck 13201',\n",
       " 'Die Leitungsposition muss den während der Prüfung auftretenden Festkräften standhalten.',\n",
       " 'Mittels CAD Simulation.',\n",
       " 'Es darf kein Medium in den Steckverbinder eindringen.',\n",
       " '0,45 mm',\n",
       " 'Bis zu einer Blechdicke von 0,4 mm',\n",
       " '-40 °C bis +125 °C',\n",
       " 'Bild 30 und Bild 31',\n",
       " 'Normale Isolierung, thermoplastisch',\n",
       " 'Eine Nickelbeschichtung kann die Temperaturbeständigkeit der Leitbahnen verbessern.',\n",
       " 'Überprüfen Sie die Spezifikationen und passen Sie die Längeneinstellung an.',\n",
       " '0,13 mm² bis einschließlich 6 mm² Leiterquerschnitt und Meterware.',\n",
       " 'Überwachbarkeit wird auf einer Skala von 1 bis 3 bewertet, während Verarbeitbarkeit eine feste Bewertung von 1 hat.',\n",
       " 'Nein, das Aufspleißen der Einzeldrähte ist nicht zulässig.',\n",
       " 'Temperaturschwankungen, Feuchtigkeit, Vibrationen, Korrosion und andere Faktoren, die die Leistung beeinflussen könnten.',\n",
       " '50 °C',\n",
       " 'Weichgeglühtes Elektrolytkupfer Cu-ETP1 nach DIN EN 13602',\n",
       " 'Die mechanische Beanspruchung durch Vibrationen (16).',\n",
       " 'TPE-E',\n",
       " 'Die Crimphöhe anpassen.',\n",
       " 'Massivleitungen, Leiter aus Aluminium oder für Flachleitungen.',\n",
       " 'Die Fotografie der Kontakte mit dem Temperaturfühler muss die Dokumentation der Kontaktanordnung im Gehäuse (Ansicht Steckseite) zeigen.',\n",
       " 'Das Bauteil darf nicht durcherhitzt sein.',\n",
       " 'Die Grundmaße müssen nach der Belastung überprüft werden.',\n",
       " '105 °C',\n",
       " 'Das sinnvolle Verhältnis der Messkanäle ist in einem sinnvollen Verhältnis aufzuteilen.',\n",
       " 'Die Conductor Crimp Height ist ein Maß für die Höhe des geformten Teils des Crimps über der Oberseite der Kontaktstücke und ist wichtig für die richtige metallurgische Kompression.',\n",
       " '2000 Ω/km',\n",
       " 'So, dass das Testmuster keinen unzulässig hohen oder niedrigen Belastungen ausgesetzt wird.',\n",
       " 'Kapitel 6.2 Crimp Height',\n",
       " 'Der Prüfstrom ist so einzustellen, dass sich stabile Messwerte ergeben.',\n",
       " 'Der Leitungsquerschnitt sollte beliebig (möglichst klein) sein.',\n",
       " \"Der LEONI 'Adascar' Sensor 2x0,50 mm² hat eine Zugfestigkeit von >200 N, während der LEONI 'Adascar' Sensor 20x0,35 mm² eine Zugfestigkeit von >140 N aufweist.\",\n",
       " '0,30 mm',\n",
       " '10,5 kg/km',\n",
       " 'Leider kann ich diese Frage nicht einmal mit den bereitgestellten Informationen beantworten',\n",
       " 'Leider kann ich diese Frage nicht einmal mit den bereitgestellten Informationen beantworten',\n",
       " 'Leider kann ich diese Frage nicht einmal mit den bereitgestellten Informationen beantworten',\n",
       " 'Das Logo symbolisiert die Marke Molex.',\n",
       " 'Cmk steht für die Prozessfähigkeitsindex, der angibt, wie gut ein Prozess spezifizierte Toleranzen einhalten kann.',\n",
       " 'messen',\n",
       " '159',\n",
       " 'Kfz-Kontaktierungen und Leitungssätze in Kraftfahrzeugen.',\n",
       " 'Symmetrische und unsymmetrische Datenübertragungsleitungen sowie Koaxialleitungen.',\n",
       " 'Keine Schädigungen im Kontaktbereich.',\n",
       " 'Der Drahtvorschubdruck sollte erhöht und der Drahtausrichter entsprechend angepasst werden.',\n",
       " 'Leider kann ich diese Frage nicht einmal mit den bereitgestellten Informationen beantworten',\n",
       " 'Sicherheitsschutz installieren, die Stromversorgung wiederherstellen und die Einstellungen für den Leiter-Crimp anpassen.',\n",
       " '24,7 mΩ/m',\n",
       " 'Das Kontaktöffnungsmaß darf sich nur innerhalb der vorgegebenen Toleranz verändern.',\n",
       " '19',\n",
       " 'Kondensation',\n",
       " 'Je ein Steckvorgang mit maximal möglichem Schrägsteckwinkel in y- und z-Richtung (ist Steckrichtung).',\n",
       " 'Cu-ETP1 gemäß DIN EN 13602, blank',\n",
       " 'Eine Überschreitung könnte auf Probleme im Einrollprozess des Crimps hinweisen.',\n",
       " 'Ja, Änderungen müssen zwischen den zuständigen Fachabteilungen des Automobilherstellers und des Lieferanten abgestimmt werden.',\n",
       " '4,20 / 2,30 mm',\n",
       " '1,75 mm',\n",
       " 'Sechs',\n",
       " 'Mantel-, Kontakt- und Oberflächenanalyse; Kontaktierung; Isolationsbeschichtung',\n",
       " 'Leider kann ich diese Frage nicht einmal mit den bereitgestellten Informationen beantworten',\n",
       " '5 Leer-Crimps',\n",
       " 'Eine Crimphülse, die für den Crimpvorgang geöffnet ist und nach dem Crimpen geschlossen wird.',\n",
       " 'Bei 3 GHz',\n",
       " 'Innerhalb von 0 mm bis 0,2 mm.',\n",
       " 'Mindestens 1/3 des Leitungsumfangs.',\n",
       " 'Weitere Informationen können auf der Website www.leoni-automotive-cable.com unter Produkte und Lösungen gefunden werden.',\n",
       " 'Ein Verhältnis von 10/10 wird als sicherer Fehler angenommen.',\n",
       " '-80 °C bis +200 °C',\n",
       " 'AWG 36',\n",
       " 'Die Grenzwerte der Anforderungstabelle aus PG 6 sind einzuhalten, auch wenn hier Primär- und Sekundärverriegelung geschlossen sind.',\n",
       " 'Leider kann ich diese Frage nicht einmal mit den bereitgestellten Informationen beantworten',\n",
       " 'DIN EN 60512-1-1',\n",
       " 'Es kann zu einer Schwächung der Verbindung führen und die Isolationsintegrität beeinträchtigen.',\n",
       " 'Seite 18',\n",
       " 'Ca. 1 Sekunde',\n",
       " 'Leider kann ich diese Frage nicht einmal mit den bereitgestellten Informationen beantworten',\n",
       " \"Zwei Werte, einer für 'fehlende Einzeldrähte' und einer für 'Isolation im Drahtcrimp'\",\n",
       " '70 - 100 N/mm²',\n",
       " 'Die Einzelleiterabdichtung darf nicht beschädigt oder von den Crimpflanken durchdrungen werden.',\n",
       " 'PVC und TPE-U mit 22,0 kg/km.',\n",
       " '-40 °C bis +85 °C',\n",
       " 'Im Anhang B werden die Q-Matrix für Freigabeprüfungen und die Q-Matrix für produktionsbegleitende Prüfungen erörtert.',\n",
       " '20 mm',\n",
       " 'Weich-PVC, kältebeständig',\n",
       " 'Alle vorkommenden Querschnitte.',\n",
       " 'CuMg',\n",
       " 'Er liefert detaillierte Verfahrensanweisungen, die dazu beitragen, menschliche Fehler zu reduzieren.',\n",
       " 'Leider kann ich diese Frage nicht einmal mit den bereitgestellten Informationen beantworten',\n",
       " 'A_leiter ist der Leiterquerschnitt.',\n",
       " 'JASO D611:2009 und JASO D618:2008',\n",
       " 'Es wird eine Schwingprüfung mit Sinus/Rauschen oder mechanischem Schock (sofern gefordert) durchgeführt.',\n",
       " 'Die Pull Force wird in Pfund (LBS.) und Newton (N) gemessen.',\n",
       " 'Mindestens 5 Zugkraftmessungen sollten aufgezeichnet werden.',\n",
       " '10 Crimps mit Isolation im Crimp herstellen',\n",
       " 'Leider kann ich diese Frage nicht einmal mit den bereitgestellten Informationen beantworten',\n",
       " '-40 °C bis +150 °C',\n",
       " 'Nein, hochstehende Einzeldrähte sind nicht zulässig.',\n",
       " 'Bei 6,0 mm², und die geforderte Kraft ist 450 N',\n",
       " '68',\n",
       " '32,7 mOhm/m',\n",
       " 'Eine höhere Beständigkeit gegen Umwelteinflüsse reagieren.',\n",
       " 'Anschließend bei Raumtemperatur abkühlen lassen.',\n",
       " 'Geschwindigkeit',\n",
       " '81',\n",
       " 'Temperaturwechselprüfung, Feuchteprüfung, Salzsprühnebelprüfung',\n",
       " '2009',\n",
       " '140.',\n",
       " 'Um die Qualität und Zuverlässigkeit der elektrischen Verbindung zu gewährleisten',\n",
       " 'Gruppe 1: Steckgehäuse mit Blindstopfen. Gruppe 2: Steckgehäuse mit Einzelab\\xaddichtungen (z.B. ELA etc.).',\n",
       " 'Seite 74',\n",
       " 'Nein',\n",
       " '4 mm2',\n",
       " 'Eine mangelhafte Bellmouth kann das Einführen des Leiters erschweren und zu Beschädigungen der Litzenenden führen.',\n",
       " 'Leider kann ich diese Frage nicht einmal mit den bereitgestellten Informationen beantworten',\n",
       " 'Wenn höchste Präzision und Detailerkennung erforderlich sind.',\n",
       " '-40 bis +105 °C',\n",
       " 'Die Cmk der Crimphöhe muss mindestens 2,0 aufweisen.',\n",
       " '35',\n",
       " 'Es dürfen die Maximalwerte der Tabelle (Anlage A) nicht überschritten werden. Fotodokumentation im ausgebauten Zustand ist erforderlich.',\n",
       " '24',\n",
       " 'Beide Kabeltypen haben eine dünnwandige Isolierung.',\n",
       " 'Sichtprüfung.',\n",
       " 'GS 95007-1-4.',\n",
       " 'Je Nest 1 Bauteil.',\n",
       " 'Sie beziehen sich auf verschiedene Aspekte des gemessenen Widerstands von Crimp-Kontakten.',\n",
       " 'VW 75174',\n",
       " 'Ja, eine Toleranzzeichnung mit Maßangaben ist erforderlich.',\n",
       " 'Geeignet für hochdynamische Drücke',\n",
       " 'Die Automatfähigkeit.',\n",
       " 'Kupfer- oder Aluminiumleiter.',\n",
       " 'Die Crimpzange sollte ausgetauscht werden.',\n",
       " 'Die Fallhöhe muss so eingestellt werden, dass der Prüfling in der Rotationsfassung abtrifft.',\n",
       " 'TPE-E (Thermoplastisches Elastomer auf Basis Polyester-Ester) und TPE-U (Thermoplastisches Elastomer auf Basis Polyurethan).',\n",
       " 'Weichgeglühtes Elektrolytkupfer Cu-ETP1 nach DIN EN 13602, blank, verzinnt, versilbert oder verzinnt versilbert',\n",
       " 'Vernetztes Polyethylen',\n",
       " 'Leider kann ich diese Frage nicht einmal mit den bereitgestellten Informationen beantworten',\n",
       " 'B',\n",
       " 'Es wird ein Zyklus durchgeführt.',\n",
       " '-40 bis +125 °C',\n",
       " 'Für die Differenz im Weg bei maximaler Kraft.',\n",
       " 'Einzeladern oder mehradrige Mantelleitungen mit einem Drahtquerschnitt von maximal 6 mm²',\n",
       " 'Mindestens 100 ml',\n",
       " \"Spitzenwerte 'Isolation im Drahtcrimp'\",\n",
       " 'LEONI bedient Regionen wie Europa, Asien und Amerika, mit Fertigungsstandorten in Mexiko, Deutschland, Polen, Ungarn, Türkei, Indien und China.',\n",
       " '16 Adern.',\n",
       " 'Einsatz im Schwefelwasserstoffbereich',\n",
       " 'Auch als GXL, SXL sowie verzinnt lieferbar',\n",
       " 'Leider kann ich diese Frage nicht einmal mit den bereitgestellten Informationen beantworten',\n",
       " 'Schnelle Reaktionszeiten und bessere Abstimmung auf spezifische Kundenbedürfnisse.',\n",
       " '-40 °C bis +105 °C',\n",
       " 'Die Schärfegrade der Vibrationsbelastungen (V1 – V6) werden beschrieben und definiert.',\n",
       " 'Die Crimpqualität könnte beeinträchtigt werden, da die Crimphöhe ein wichtiger Parameter im Crimpvorgang ist.',\n",
       " 'Elektrische Leitungen für Kraftfahrzeuge; Teil 4: Leitung aus Kupferlegierungen, einadrig, ungeschirmt',\n",
       " 'Keine funktionsbeeinträchtigende Veränderung (siehe PG 22A).',\n",
       " 'Crimp - Ein-/Auslauf',\n",
       " 'Hochflexibel.',\n",
       " '10.0 NOTES',\n",
       " 'Der maximale Druck ( P_max ) muss dokumentiert werden.',\n",
       " 'Erfassung zusätzlicher Informationen, Kommentare oder spezielle Hinweise, die nicht in den Hauptabschnitten des Dokuments enthalten sind.',\n",
       " 'Kfz-Kontaktierungen; Slow-Motion-Prüfungen',\n",
       " 'Abschnitt 5.0 Prozedur',\n",
       " 'Der Prozess der Überprüfung, ob ein Produkt die Anforderungen und Spezifikationen für seinen geplanten Einsatz erfüllt.',\n",
       " 'Weil eine Verschiebung im Prozess zwischen den Bedienern die Messfähigkeit, nicht aber eine Anpassung des Werkzeugs in Frage stellt.',\n",
       " 'A_crimp ist der Querschnitt des im Crimp eingeschlossenen Leiters, gemessen als Polygonzug im Schliffbild.',\n",
       " 'Leider kann ich diese Frage nicht einmal mit den bereitgestellten Informationen beantworten',\n",
       " '20 kN',\n",
       " 'AWG 20',\n",
       " 'Leitungssätze in Kraftfahrzeugen',\n",
       " 'DIN EN 60512-1-1',\n",
       " '48 Stunden',\n",
       " 'Leider kann ich diese Frage nicht einmal mit den bereitgestellten Informationen beantworten',\n",
       " 'Alle vorhandenen Varianten (Formnester) müssen belegt sein',\n",
       " 'Mindestens 5 Messungen.',\n",
       " 'DIN EN 60512-1-1.',\n",
       " 'Bewertung der Kontaktflächen nach Prüflingen',\n",
       " 'Leider kann ich diese Frage nicht einmal mit den bereitgestellten Informationen beantworten',\n",
       " 'Mittels Schieblehre',\n",
       " '0,31 mΩ',\n",
       " 'Crimp-Mikrometer.',\n",
       " 'Leider kann ich diese Frage nicht einmal mit den bereitgestellten Informationen beantworten',\n",
       " 'Die Verbindung des Leiters mit dem Kontaktbereich.',\n",
       " 'Ermittelte maximale Kraft auf einem Weg von 0,2mm.',\n",
       " '-40 bis +105 Grad Celsius',\n",
       " 'Die Höhe muss den in der Normteilzeichnung angegebenen Maßen entsprechen.',\n",
       " '0,75 mm nom.',\n",
       " 'LEONI Adascar® Truck 10101',\n",
       " 'Alle relevanten Varianten.',\n",
       " '0,11 mm.',\n",
       " 'Orange',\n",
       " 'Leider kann ich diese Frage nicht einmal mit den bereitgestellten Informationen beantworten',\n",
       " '> 770 N/mm²',\n",
       " 'SN.',\n",
       " 'Dass eine gute Verpressung bei Einhaltung der vorgegebenen Crimpmaße sichergestellt ist.',\n",
       " 'Für Leitungsquerschnitte, die nicht aufgeführt sind, müssen die Grenzwerte des nächstkleineren aufgeführten Querschnitts angewendet werden.',\n",
       " 'Auf die Herstellung von hochqualitativen Verbindungen in der Kontakt- und Kabelverarbeitung.',\n",
       " 'Abschnitt 5.1 Tool Setup',\n",
       " 'Hohe/flexible Geflechte aus verzinnten Kupferdrähten mit 90%iger Optimalbedeckung min. 95%.',\n",
       " 'Manuell wahlweise festhaftend oder in trennbarer Ausführung lieferbar',\n",
       " 'Es könnten Verfahren und Maßnahmen zur sicheren Handhabung und Gewährleistung der Funktionssicherheit von Gehäusen beschrieben werden, beginnend auf Seite 25',\n",
       " 'Ca. 1 %',\n",
       " 'DIN EN 60512-1-1',\n",
       " 'Der Unterschied beträgt 1,15 mm (4,60 - 6,15 mm)',\n",
       " \"Möglicherweise bezieht sich 'Headroom' auf Wachstumspotenzial oder Platz für Verbesserungen und Innovationen.\",\n",
       " '1.000 Hz und 0,14 (m²/s²)/Hz',\n",
       " 'In sicherheitskritischen Anwendungen wie im Automotive-Bereich, wo ein Versagen zu ernsthaften Gefahren führen kann.',\n",
       " '80 °C',\n",
       " 'Beschädigungen der Einzeldrähte, wie Anritzen, Kerben oder Beschädigung durch die Ablisoliermesser.',\n",
       " 'Rberechneter Widerstand = (Rmessstrecke2 - Rmessstrecke1) * 100 / Leitungslaenge',\n",
       " 'Über 10.000',\n",
       " 'Nein',\n",
       " 'Von der Molex Application Tooling Group.',\n",
       " 'Die Toleranzgrenze ist 1 Crimpdurchmesser für den oberen und unteren Isolationsabstand.',\n",
       " 'Es könnte zu einer unzureichenden Befestigung der Isolation am Draht kommen, was die Stabilität und Qualität der Verbindung beeinträchtigen könnte.',\n",
       " 'Cu blank / Staku blank / PETP / C-Schirm',\n",
       " 'Mindestens 100 ml',\n",
       " 'In der Mitte des doppelten Radius des Leiterbündels, nahe am Leitereinzug.',\n",
       " '5,60 GHz',\n",
       " 'PVC-Rundleitungen und PVC-Flachleitungen.',\n",
       " 'Die relative Ist-Streuung zeigt die tatsächliche Streuung der Messwerte im Verhältnis zu den erwarteten Werten.',\n",
       " 'Es wird nichts unternommen; der Prozess wird beendet, da die Kriterien nicht erfüllt sind.',\n",
       " \"Der Indikator 'Streuung t'.\",\n",
       " '26 AWG',\n",
       " 'Isolationscrimp Form A (F-Crimp) und Isolationscrimp Form B (Umschlingungscrimp).',\n",
       " '26',\n",
       " 'Auf die Bedingung, dass der Widerstand während der Temperaturzyklen die festgelegten Stabilitätskriterien nicht überschreiten darf.',\n",
       " 'Eine hohe Anzahl von PPM (Parts per million) deutet auf eine höhere Rate von potenziellen Defekten hin.',\n",
       " 'zu 100 % erkannt werden.',\n",
       " 'Leider kann ich diese Frage nicht einmal mit den bereitgestellten Informationen beantworten',\n",
       " 'Leider kann ich diese Frage nicht einmal mit den bereitgestellten Informationen beantworten',\n",
       " 'Überprüfung der Verwendung, Entwicklung und Duplizierung.',\n",
       " 'Kabelaufbau und nom. Querschnitt in mm²',\n",
       " 'Sie müssen Schneidemaschinenrüstungen vorsehen, die vorzugsweise den Serienstand einer Kabelkonfektion abbilden.',\n",
       " 'Crimpnaht (Ch) und Leiterausfallkraft.',\n",
       " '0,386 Ohm/m',\n",
       " 'Gebrauchstemperaturen, Elektrische Werte, Flexibilität/Härte, Mechanische Belastbarkeit, Arbeitsfähigkeit, Medienbeständigkeit, Flammbewährigkeit, Halogenfreiheit, geringe Rauchgasentwicklung',\n",
       " 'Die Stromversorgung abkoppeln, den notwendigen Schutz entfernen und die Einstellungen der Isolations-Crimp-Höhe anpassen.',\n",
       " \"Die Prüfung 'Langzeitmechanische Beanspruchung' (21).\",\n",
       " 'DIN EN ISO 527',\n",
       " 'RJ-45',\n",
       " '3 Zyklen',\n",
       " 'TLF 0214',\n",
       " 'Temperaturbeständigkeit, Flexibilität, Haltbarkeit und Widerstandsfähigkeit gegenüber Umwelteinflüssen.',\n",
       " '+125 °C',\n",
       " 'Leider kann ich diese Frage nicht einmal mit den bereitgestellten Informationen beantworten',\n",
       " 'Thermoplastische Kunststoffe und thermoplastische Elastomere.',\n",
       " 'Leider kann ich diese Frage nicht einmal mit den bereitgestellten Informationen beantworten',\n",
       " 'Die Streuung wird durch den Vergleich der Streuungslinien bei Gut-Crimps und Leer-Crimps bei einem bestimmten Kraftwert (5% der Maximalkraft) bewertet.',\n",
       " '480 Minuten',\n",
       " 'Dass die Isolation die mechanische Festigkeit und elektrische Integrität der Verbindung beeinträchtigen könnte.',\n",
       " 'Leider kann ich diese Frage nicht einmal mit den bereitgestellten Informationen beantworten',\n",
       " 'Perfluoralkoxy-Copolymer.',\n",
       " 'Abschnitt 7.1 Process Capability',\n",
       " 'Kalibrier- und Einfahren-Vorgang.',\n",
       " '5 N',\n",
       " 'Nach Prüfung B 20.2 und spätestens nach 60 Minuten',\n",
       " 'Maximal 10-fach.',\n",
       " 'Die abisolierten Enden sind aufzuspleißen und zu schützen, zum Beispiel durch eine Isolationshülse.',\n",
       " '> 800 N/mm²',\n",
       " '-40 °C / +70 °C',\n",
       " 'Die Crimpmaße müssen den jeweils gültigen Zeichnungsangaben entsprechen und von Kontakthersteller verbindlich festgelegt werden.',\n",
       " 'Durch die Crimpvorrichtungen werden gut und fehlerhafte Teile zuverlässig sortiert.',\n",
       " 'Das Leiterende darf nicht in die Anschraubfläche hineinragen.',\n",
       " 'Das Ziel von Six Sigma ist es, praktisch null Defekte zu erreichen, indem die Menge der gemeinsamen Variabilität in einem Prozess reduziert wird.',\n",
       " 'LEONI Adascar® Sensor 1630',\n",
       " '5,1 mm',\n",
       " 'Weil es zu viele Größenkombinationen von Draht und Isolation gibt.',\n",
       " 'Das Handbuch bietet eine Basisübersicht darüber, was bei einem akzeptablen Crimp zu suchen ist.',\n",
       " 'Messung der Kurzzeitunterbrechung während der Belastung',\n",
       " '53,0 kg/km',\n",
       " '60',\n",
       " '19',\n",
       " 'Verbindungselemente zwischen Zugfahrzeug und Anhänger oder Sattelauflieger, Beleuchtungs- und Verkabelungssysteme, Leitungen mit ADR-Zertifizierung etc.',\n",
       " 'Sie dienen dazu, den gemessenen Widerstand der Prüflinge zu bewerten und festzustellen, ob sie innerhalb der vorgegebenen Referenzwerte liegen.',\n",
       " '54,4 Ohm/km',\n",
       " 'Ein hoher Pull Force-Wert kann anzeigen, dass beide Drähte der gleichen Größe genau zusammengecrimpt und gezogen wurden, wobei die Zerrationen des Terminals individuell auf den Draht einwirken.',\n",
       " 'Sicherheitsschutz installieren und die Stromversorgung wiederherstellen.',\n",
       " 'PE',\n",
       " 'Die Streuung der Spitzenwerte gibt Aufschluss über die Konsistenz und Zuverlässigkeit des Crimpvorgangs.',\n",
       " \"Die Linie 'Nr. 1' repräsentiert den Strom I aus Messung.\",\n",
       " '85,00 %',\n",
       " 'Die Terminalhöhe sollte überprüft werden.',\n",
       " 'Die Nennspannung in kV',\n",
       " 'Sie hat eine normale Wanddicke.',\n",
       " 'Connector Position Assurance',\n",
       " 'Die Crimpflanken müssen so weit eingrollt sein, dass die Einzeladerabdichtung sicher gehalten wird.',\n",
       " 'Anzahl kleiner 3 von 300.',\n",
       " 'Die Festigkeit der Verbindung zwischen Leitung und Crimpkontakt zu messen.',\n",
       " 'Bei einer Mindest-SiMAKS von 62.',\n",
       " 'Die Prüfung misst die niedrigsten Steckkraft und der Prüfling mit der größten Steckbreite (von Erststeckung bis 5-Steckung) aus B 1.11 wird zusätzlich spezifiziert.',\n",
       " 'Gute UV-Beständigkeit.',\n",
       " 'Leider kann ich diese Frage nicht einmal mit den bereitgestellten Informationen beantworten',\n",
       " 'Ein hoher Headroom-Wert könnte auf Probleme wie fehlende Drähte oder Isolationsfehler im Crimp hinweisen.',\n",
       " 'Leider kann ich diese Frage nicht einmal mit den bereitgestellten Informationen beantworten',\n",
       " '-20 °C',\n",
       " 'Dass diese bei der Verfügung gestellt und die Prüfung separat beauftragt werden.',\n",
       " 'Die verschiedenen Phasen oder Zustände während des Crimp-Prozesses, gemessen an einer Qualitätsmetrik wie etwa der Crimp-Höhe oder -Kraft.',\n",
       " 'Weichglühtes Elektrolytkupfer Cu-ETP1 nach DIN EN 13602, blank oder verzinnt',\n",
       " 'XLPE (Polyethylen, Strahlen-, Silan-, Peroxidvernetzung)',\n",
       " 'Schutzklasse gegen starkes Strahlwasser und Hochdruck-/Dampfstrahlreinigung.',\n",
       " 'LEONI Adascar® Comfort 6040 5x0,35 Flex hat 45 Einzeladern',\n",
       " 'Leider kann ich diese Frage nicht einmal mit den bereitgestellten Informationen beantworten',\n",
       " \"Die Kategorie 'Schalter: elektrische Lebensdauer' (10).\",\n",
       " '-65 °C bis +180 °C',\n",
       " '37,1 Ohm/km',\n",
       " 'Die Crimphöhe',\n",
       " 'Der Begriff ist durch den Group Standard zu ersetzen.',\n",
       " 'Auf alle Messpunkte aus Gut-Crimpungen bis UT (Unterer Toleranzbereich).',\n",
       " 'Um sicherzustellen, dass die Crimpwerkzeuge korrekt eingestellt sind und der Crimpvorgang zuverlässige Verbindungen produziert.',\n",
       " 'Die Prüfkörper werden 2-mal gesteckt und einmal gezogen.',\n",
       " '-40 °C bis +150 °C',\n",
       " 'Die Prüfkörper werden 2-mal gesteckt und einmal gezogen.',\n",
       " 'Um kleine Details zu vergrößern und genau zu inspizieren.',\n",
       " \"Die Position Einzeladerabrichtung ist relevant für Abschnitt 4.3.7 und muss beurteilt ('b') werden.\",\n",
       " 'Ja, die Akzeptanz dieser Prüfberichte bedingt keine automatische Freigabe, andere Prüfberichte können nach Ermessen des Automobilherstellers anerkannt werden.',\n",
       " 'Das Isolationsende muss im Fenster zwischen Draht- und Isolationscrimphülse sichtbar sein und es darf keine Leitungsisolation erfasst werden.',\n",
       " 'Alle sind niedriglegierte Kupfermaterialien.',\n",
       " '-65 °C',\n",
       " 'Leider kann ich diese Frage nicht einmal mit den bereitgestellten Informationen beantworten',\n",
       " '24 Stunden',\n",
       " 'Wärmebeständiges PVC, bleifrei.',\n",
       " 'Das Terminal, der Draht und das Werkzeug.',\n",
       " 'Das Erreichen der minimal erforderlichen Kraft.',\n",
       " 'In der zweiten Hälfte der Bewegungsphase.',\n",
       " 'Silikon-Extrusion und Ram-Extrusion.',\n",
       " '1-mal',\n",
       " 'Der Test muss an einem stabilen Zustand des Systems wiederholt werden.',\n",
       " '0 bis 120 Grad Celsius',\n",
       " 'Leider kann ich diese Frage nicht einmal mit den bereitgestellten Informationen beantworten',\n",
       " '6,4 mm',\n",
       " 'Mit PVC-Isolierung und einem dünnwandigen Aufbau',\n",
       " 'TPE-U',\n",
       " '47',\n",
       " 'Ein Leer-Crimp muss vorliegen.',\n",
       " 'Gute mechanische und thermische Beständigkeit, sowie Eignung zur Verdratung innerhalb des Motorraums und als Kraftstoffniveaugeber-Leitung.',\n",
       " 'Leider kann ich diese Frage nicht einmal mit den bereitgestellten Informationen beantworten',\n",
       " 'Von 1,30 mm bis 1,95 mm.',\n",
       " 'Es ist kein Korrekturfaktor nach DIN EN 60512 anzuwenden.',\n",
       " 'LEONI verspricht, Produkte in höchster Qualität für die Automobilindustrie zu fertigen.',\n",
       " 'Steigende Anforderungen bei der Entwicklung von Fahrzeugen.',\n",
       " 'Leider kann ich diese Frage nicht einmal mit den bereitgestellten Informationen beantworten',\n",
       " '7,6 mΩ/m',\n",
       " 'Die Stromversorgung trennen und den Schutz entfernen, die Crimphöhe des Leiters einstellen, Schutzvorrichtungen installieren, die Stromversorgung verbinden und mit Schritt 18 fortfahren.',\n",
       " 'Die Steckhäufigkeit wird für 20, 50 und 100 Steckzyklen spezifiziert.',\n",
       " '7',\n",
       " '20 AWG',\n",
       " 'Unzureichende Anpassung der Crimpwerkzeuge oder falsche Anwendung der Crimptechnik.',\n",
       " '5,0 kg/km',\n",
       " 'Um die Werte in der Klammer zu erreichen, da sonst die Messungen isolationsfrei durchgeführt werden.',\n",
       " '0,1 mΩ/m',\n",
       " 'Ein 18 AWG Leiter sollte einen minimalen Pull Force-Wert von 20 Pfund haben.',\n",
       " 'LEONI Dacar® 617 und LEONI Dacar® 625',\n",
       " '18,5 Ohm/km bis 86,5 Ohm/km.',\n",
       " 'Speziell ausgewählte Materialien für Hochvolt-Applikationen.',\n",
       " 'C.',\n",
       " 'Alle relevanten Werkstoffe und Oberflächen.',\n",
       " 'Veränderungen am Crimp',\n",
       " 'Den örtlichen Vertriebstechniker kontaktieren.',\n",
       " 'Der Kontaktbereich muss betroffen sein.',\n",
       " 'Dass der Test unter verschiedenen Bedingungen und nicht unter idealisierten Voraussetzungen durchgeführt wird.',\n",
       " 'Der Querschnitt des Leiters',\n",
       " '10 Kontaktpaare im Gehäuse.',\n",
       " 'ISO 6722-1',\n",
       " '25 Grad Celsius',\n",
       " 'ZVEI oder eine ähnliche elektrotechnische Industrievereinigung.',\n",
       " 'Das Stabilitätskriterium ΔR2 entspricht dem doppelten Wert des Grenzwertes für ΔR3.',\n",
       " 'Leider kann ich diese Frage nicht einmal mit den bereitgestellten Informationen beantworten',\n",
       " 'Zugverstärktes Leitermaterial zur Querschnittsreduktion',\n",
       " 'Absturzwinkel',\n",
       " '>10 MPa',\n",
       " 'DIN EN 60216',\n",
       " 'Breite x Tiefe x Höhe: 830 x 600 x 700 mm',\n",
       " '≥ 0,7 × S',\n",
       " 'Leider kann ich diese Frage nicht einmal mit den bereitgestellten Informationen beantworten',\n",
       " 'Anwendungen für hochwärmedruckfeste Leitungen',\n",
       " '100 - 150 mm',\n",
       " 'PFA/PTFE',\n",
       " 'BL (vermutlich steht BL für Blau).',\n",
       " 'AVSSf',\n",
       " 'Seite 9',\n",
       " 'Ja, Notizen können dazu verwendet werden, Änderungen an der Crimp-Methodik oder an den Geräteeinstellungen zu dokumentieren.',\n",
       " 'Die Isolationscrimphöhe sollte enger eingestellt werden.',\n",
       " 'Geschirmt oder ungeschirmt.',\n",
       " 'Die Einhaltung der spezifizierten Isolationslänge im Drahtcrimp',\n",
       " 'Die Isolierung besteht aus PA (Polyamid).',\n",
       " '5 Minuten',\n",
       " 'Die maximale Temperatur entspricht der vom Hersteller genannten oberen Grenztemperatur (T_{max}) des Kontaktsystems.',\n",
       " \"Die Angabe '54/155/35' bezieht sich auf die Wandstärke der Isolierung in mm (minimale Wandstärke / typische Wandstärke / maximale Wandstärke).\",\n",
       " \"X0 wird als der Punkt definiert, an dem sich der Kraftverlauf von 'Gut-Crimp' und 'Leer-Crimp' trennen.\",\n",
       " '49',\n",
       " 'Abschnitt 5.3',\n",
       " 'Informationen zur visuellen Inspektion',\n",
       " '1 900 N',\n",
       " 'Leider kann ich diese Frage nicht einmal mit den bereitgestellten Informationen beantworten',\n",
       " 'Leider kann ich diese Frage nicht einmal mit den bereitgestellten Informationen beantworten',\n",
       " 'Seite 12',\n",
       " 'Die Dicke des Kontaktmaterials am Boden des Crimpbereichs.',\n",
       " 'Die Maschine entspricht den Richtlinien für elektromagnetische Verträglichkeit.',\n",
       " 'Leider kann ich diese Frage nicht einmal mit den bereitgestellten Informationen beantworten',\n",
       " '2,718 m/s²',\n",
       " '50 N',\n",
       " 'Das Werkzeug, das Terminal, der Draht und die Art des Anwendungswerkzeugs.',\n",
       " '6 ms',\n",
       " 'Es gibt Auskunft über den Prozessstatus und hilft dabei, den Prozess zu verstehen und zu überwachen.',\n",
       " '130 Grad Celsius',\n",
       " 'Dass keine Sichtprüfung auf Durchlöcherungen durchzuführen ist, da das Maß an Restschichtdicke im Kontakt mit ausreichendem Maß erfolgt.',\n",
       " '3,70 mm, verwendet für Cu verzinnt',\n",
       " '48 Stunden',\n",
       " 'Die Werkzeugeinstellung ist entscheidend, um die Qualität des fertiggestellten Crimps zu bestimmen, einschließlich Kriterien wie Crimp-Höhe, Bürstung, Abisolierlänge und Isolationsposition.',\n",
       " 'Niedervolt-Steckverbinder für den Automotive-Bereich.',\n",
       " 'Der Trennsteg trennt den Leitercrimp vom Isolationscrimp.',\n",
       " 'XLPE (vernetztes Polyethylen)',\n",
       " '10 Prüflinge pro Variante.',\n",
       " 'Ein technisches Handbuch oder eine Anleitung zur Crimp-Kontaktierung.',\n",
       " '0,0201 Zoll',\n",
       " 'Durch das Einhalten der definierten Eigenschaften für einen Gut-Crimp und die Abgrenzung zum Leer-Crimp.',\n",
       " 'Kfz steht für Kraftfahrzeug.',\n",
       " '16 bis 30 Temperaturzyklen.',\n",
       " 'Die Terminals crimpen.',\n",
       " '10 Crimpungen',\n",
       " 'V4',\n",
       " 'Newton (N)',\n",
       " '380 pF/m.',\n",
       " \"Die Funktion entspricht 'STABW' in Microsoft Excel.\",\n",
       " 'Sie sind für eine Nennspannung von 60V DC / 25V AC ausgelegt.',\n",
       " 'Es sollte geprüft werden, ob die hohe Belastung nicht durch oszillierende Vibrationen bei Nickeldurchbrüchen verursacht wird.',\n",
       " 'Faktor 0,8',\n",
       " '-40 bis +105 °C',\n",
       " 'Leider kann ich diese Frage nicht einmal mit den bereitgestellten Informationen beantworten',\n",
       " 'Abschnitt 5.1.2 beschäftigt sich mit Freigabeempfehlungen für Prüfungen.',\n",
       " 'Ja',\n",
       " 'Ein Schnitt oder abgeknickte Stränge können die Ursache sein, und die Lösung wäre, den Abisolierprozess zu überprüfen.',\n",
       " 'Keine zusätzliche Bedingung gegeben, nur Gh ≥ 1 × S',\n",
       " 'Alle 10 Prüflinge messen',\n",
       " 'Die Toleranz für die messbare Crimphöhe (Cbm).',\n",
       " 'Die Isolationscrimphöhe einstellen, Schutzvorrichtungen installieren, die Stromversorgung verbinden und mit Schritt 18 fortfahren.',\n",
       " 'Die X-Achse.',\n",
       " 'Der Terminal hat nicht genug Kontakt mit dem Isolationsbarrel.',\n",
       " 'Fmax steht für den maximalen Kraftwert, der im Rahmen der Prüfungen relevant sein kann.',\n",
       " 'Leider kann ich diese Frage nicht einmal mit den bereitgestellten Informationen beantworten',\n",
       " 'Maximal 1 mΩ.',\n",
       " '24.',\n",
       " '73,40 g/m',\n",
       " \"Der Weg 's' repräsentiert den Verformungsweg des Crimp-Körpers während des Crimpvorgangs.\",\n",
       " '12 Zyklen',\n",
       " 'NI',\n",
       " 'E.01 Sichtprüfung.',\n",
       " 'Ein neues CPA muss verwendet werden.',\n",
       " 'Gute chemische Beständigkeit und hohe Flexibilität bei niedrigen Temperaturen',\n",
       " 'Leider kann ich diese Frage nicht einmal mit den bereitgestellten Informationen beantworten',\n",
       " 'Dass keine Zug- und Schubkräfte auf das Stecksystem wirken und dass die Leitungsführungen schwingen, selten nicht anders spezifiziert, planmäßig mit.',\n",
       " 'Brandschutz',\n",
       " '-40 °C',\n",
       " '1,38–1,45 g/cm³',\n",
       " 'Ja, alternative Beschichtungsprotokolle sind erlaubt.',\n",
       " 'Individuelle Spezifikationen sollten konsultiert werden, da die Pull Force nur eine Mindestspezifikation hat und für Cpk-Berechnungen die durchschnittliche Abweichung als normal angenommen wird.',\n",
       " 'Er dokumentiert das Vorhandensein der Freigabeempfehlung über den EMPB und leitet diese weiterhin an die zuständigen Fachabteilungen weiter.',\n",
       " 'Ja, individuelle Terminals oder Anwendungen können spezielle Anforderungen haben.',\n",
       " 'Die Maschine schaltet sich ab und der Crimpvorgang wird gestoppt.',\n",
       " 'Für die Kabel mit den Schirmdurchmessern 5,00 mm und Manteldurchmessern 5,80 mm bzw. 5,40 mm und Manteldurchmessern 7,10 mm',\n",
       " 'Tabellen B.1 und Tabelle B.2 wurden angepasst.',\n",
       " 'Gruppe 1 und Gruppe 2',\n",
       " 'Der Crimpkontaktwiderstand sollte mindestens zweimal gemessen werden.',\n",
       " 'Die physikalischen, chemischen und Strahlungseinflüssen im Isolationsmaterial zu erhöhen.',\n",
       " 'Es ist für feindrähtigen, hochflexiblen Litzenaufbau geeignet.',\n",
       " 'Eine vollständig gefüllte Crimphülse wird durch eine vollständige Verpressung charakterisiert, deren Einzeldrähte im Drahtbündelbereich wellenförmig verpresst sind.',\n",
       " 'Er muss eine gute Beständigkeit gegenüber thermischen und chemischen Einflüssen aufweisen.',\n",
       " 'lösungsmittelfest',\n",
       " 'AVX',\n",
       " 'Seite 2',\n",
       " 'Eine Durchstoßprüfung könnte durchgeführt werden, um zu überprüfen, ob die Isolation durch den Crimpvorgang beschädigt wurde.',\n",
       " 'Headroom',\n",
       " 'Taumelspiel der Kontakte in der Gehäusekammer (theoretischer Nachweis nach Herstellervorgabe).',\n",
       " 'ASTM B3',\n",
       " 'Leider kann ich diese Frage nicht einmal mit den bereitgestellten Informationen beantworten',\n",
       " 'Funktionsrelevante Beschädigungen sind nicht zulässig.',\n",
       " 'Damit die Messung repräsentativ für die Kontaktfläche bleibt und nicht von umgebenden Materialien beeinflusst wird.',\n",
       " 'Haltekraft der Blindstopfen',\n",
       " 'Den Übergangsbereich zwischen Kontaktkasten und Leitercrimp.',\n",
       " 'Weich-PVC mit Eigenschaften gemäß ISO 6722, Klasse C',\n",
       " 'Um Standardbetriebsverfahren einzuhalten und um sicherzustellen, dass die Crimp-Verbindungen korrekt sind.',\n",
       " 'LV 214-4: 2017-04.',\n",
       " 'Prüfung gemäß TLF 0214, Punkt 5',\n",
       " 'Messungen dokumentieren.',\n",
       " 'Die Crimpzange sollte ausgetauscht und die Schnitttiefe angepasst werden.',\n",
       " 'Eine Norm oder ein Standard, auf den Bezug genommen wird.',\n",
       " '3 Kontaktteile',\n",
       " 'Cu verzinnnt / PETP-AL / PET-Schirm',\n",
       " '0.1019 Zoll',\n",
       " 'LEONI Dacar® 410',\n",
       " 'Die Grathöhe beeinflusst den Verschleißgrad des Crimpwerkzeugs und die Vorschubeinstellungen.',\n",
       " 'Es deutet auf ein Qualitätsversprechen des Herstellers bezüglich der Leistung und Zuverlässigkeit seiner Produkte hin.',\n",
       " 'Mehrdrähte Fahrzeugleitungen mit Mantel, geschirmt und ungeschirmt für Comfort, Control und Power-Applikationen.',\n",
       " '> 150 N',\n",
       " 'Bei einem asymmetrischen O-förmigen ELA-Crimp umschlingen die Isolationscrimplaschen die Einzelleiterabdichtung um mehr als 360°.',\n",
       " '> 20 N',\n",
       " 'Die Überprüfung erfolgt durch den geforderten Prozent-Wert für fehlende Drähte in Drahtcrimpbereich mit Hilfe der Crimpkraftüberwachung zu 100 Prozent.',\n",
       " 'Vermeidung von Verfälschungen per Hand, mit künstlicher Berührung, Betätigung der Verriegelung; keine Reflexion durch Unterlagen (Tisch) oder nahe Wände.',\n",
       " 'Die Kraft muss innerhalb der spezifizierten Grenzwerte liegen.',\n",
       " 'Bodendeckel (Sb)',\n",
       " 'Es muss eine neue Kappe verwendet werden.',\n",
       " 'Eine falsche Tab Length könnte zu einer unzureichenden Unterstützung des Leiters führen und damit die Stabilität und elektrische Leistung der Verbindung beeinträchtigen.',\n",
       " 'Eine vorübergehende Überschreitung der Nennlast, definiert durch eine spezifische Zeitdauer und eine bestimmte Überstromhöhe.',\n",
       " 'Leider kann ich diese Frage nicht einmal mit den bereitgestellten Informationen beantworten',\n",
       " 'Fa ≥ 0,1 × S',\n",
       " \"Die Kategorie 'Verriegelungs-Geräusch' (28).\",\n",
       " 'Eine schlechte Crimpverbindung, die zu elektrischen Fehlern, schlechten Verbindungen oder sogar zum Versagen der Verbindung führen kann.',\n",
       " 'Leider kann ich diese Frage nicht einmal mit den bereitgestellten Informationen beantworten',\n",
       " 'Zwei Arten, auf den Seiten 80 und 82',\n",
       " 'Leoni Adascar Power 5010-C mit 7 Einzeldrähten.',\n",
       " 'Leider kann ich diese Frage nicht einmal mit den bereitgestellten Informationen beantworten',\n",
       " 'Langzeitmechanische Beanspruchung',\n",
       " 'Seite 88',\n",
       " 'Die Überprüfung, ob die elektrische Crimpstelle des Schaltbildes entsprechend VW 60330, 3.4.3.1 ausfällt.',\n",
       " 'Leider kann ich diese Frage nicht einmal mit den bereitgestellten Informationen beantworten',\n",
       " 'Um Änderungen in Technologien, Vorschriften und Industriestandards zu berücksichtigen.',\n",
       " 'Widerstandsfähigkeit gegen Chemikalien',\n",
       " \"Die Zahl '0,13' bezieht sich auf den Querschnitt der Leitung in Quadratmillimetern.\",\n",
       " 'Die Abschirmung dient dazu, elektromagnetische Interferenzen zu reduzieren.',\n",
       " '60 V und 600 V einadrig',\n",
       " 'Die Crimpverbindung sollte fest sein und eine sichere elektrische Verbindung ohne Beschädigung der Litzen oder Isolation gewährleisten.',\n",
       " 'Der Kontaktkabelhersteller.',\n",
       " 'Um Flexibilität für das Hinzufügen von Informationen zu bieten, die nicht vorhergesehen wurden oder die über standardisierte Testergebnisse hinausgehen.',\n",
       " 'Den Mittelwert der Crimp-Kraftkurve an allen Messpositionen aus Gut-Crimpungen.',\n",
       " 'Ab einem Leitungsquerschnitt von 16,00 mm².',\n",
       " 'Die Reduzierung der Nennleistung eines elektrischen Bauteils unter bestimmten Betriebsbedingungen, insbesondere bei Temperaturerhöhung.',\n",
       " 'Feststellen von Abweichungen von einem gegebenen Sollzustand.',\n",
       " 'Weichgeglühtes Elektrolytkupfer Cu-ETP1 nach DIN EN 13602, blank, verzinn oder versilbert',\n",
       " 'Leider kann ich diese Frage nicht einmal mit den bereitgestellten Informationen beantworten',\n",
       " 'Dünnwandige PVC-Isolierung mit minimalem Gewicht',\n",
       " 'Die Leitung muss dünnwandig isoliert sein gemäß VW 60306-1.',\n",
       " 'Leider kann ich diese Frage nicht einmal mit den bereitgestellten Informationen beantworten',\n",
       " 'Es bedeutet, dass die Schirmung der Leitung über die gesamte Länge ununterbrochen ist.',\n",
       " '-40 Grad Celsius',\n",
       " 'Fallweise zu entscheiden: fester Kontakt oder ungehindertes Gehäuse (muss Tmax standhalten, Kontakte im Gehäuse dürfen sich thermisch nicht beeinflussen)',\n",
       " 'Wenn Cpk größer als 1 ist, liegt die 6-Sigma-Spanne vollständig innerhalb der Toleranzgrenzen.',\n",
       " 'Leider kann ich diese Frage nicht einmal mit den bereitgestellten Informationen beantworten',\n",
       " 'Alle 250 bis 500 Teile.',\n",
       " 'Spannungsfestigkeit',\n",
       " 'Signal- und Lastleitungen werden bei einem Querschnitt von ≤ 0,35 mm² bzw. > 0,5 mm² unterschieden.',\n",
       " 'Leider kann ich diese Frage nicht einmal mit den bereitgestellten Informationen beantworten',\n",
       " 'SNP nach VW 75174-2 und Temperaturschockprüfung nach VW 75174-2, jedoch mit T0 = 130° und Zyklenzahl = 500.',\n",
       " 'Zu identifizieren, was die Verschiebung im Prozess verursacht hat und zu rechtfertigen, ob eine Anpassung des Prozesses erforderlich ist.',\n",
       " 'Das Kabel FL4Y aufgrund seiner speziellen Eigenschaften.',\n",
       " 'Leider kann ich diese Frage nicht einmal mit den bereitgestellten Informationen beantworten',\n",
       " 'Die Stromversorgung trennen und den Schutz entfernen, dann die Isolationscrimphöhe einstellen, Schutzvorrichtungen installieren, die Stromversorgung verbinden und mit Schritt 14 fortfahren.',\n",
       " 'Extrusionen sind kleine Flacken, die sich an der Unterseite der Crimpverbindung bilden und auf ein Ungleichgewicht zwischen Stempel und Amboss beim Crimpen hinweisen.',\n",
       " 'Mit TPE-U-Isolierung und Buntmarkierung',\n",
       " '95 %',\n",
       " '2,5',\n",
       " 'Gruppe 3',\n",
       " 'Dass es wichtig ist, den Prozess zu verstehen, um eine gleichbleibende Qualität zu gewährleisten und unnötige Anpassungen zu vermeiden.',\n",
       " 'Flexray verwendet 2x0,5, während Fire Wire 4x0,14 verwendet.',\n",
       " 'PVC',\n",
       " 'Es steht für den negativen Pol der Spannungsquelle, die an den Kontakten für die Isolationswiderstandsmessung angelegt wird.',\n",
       " \"Der Einzelkraftwert für 'Isolation in Crimp' muss mindestens 30 Prozent eingecrimpter Isolation aufweisen, um als Fehler gewertet zu werden.\",\n",
       " 'Der n-fache Nennstrom aus der PG 12',\n",
       " 'Leider kann ich diese Frage nicht einmal mit den bereitgestellten Informationen beantworten',\n",
       " 'Leider kann ich diese Frage nicht einmal mit den bereitgestellten Informationen beantworten',\n",
       " 'Die Crimp-Kraftverläufe von Gut- und Leer-Crimp trennen sich ab X1, da ab diesem Punkt bei einem Gut-Crimp die eingelegten Drähte verformt und komprimiert werden.',\n",
       " 'PVC-Rundleitungen für LKW-Anwendungen.',\n",
       " 'Arbeitskreis POK Dokumentation Überwachungsfähigkeit Kontrolle, Verarbeitungsfähigkeit und Automatenfähigkeit (Kaderrahmen 1 ist bekannt als „Verarbeitungsfähigkeit und Automatenfähigkeit des Arbeitskreis POK“)',\n",
       " 'Das Einglegen und der Crimpvorgang.',\n",
       " 'Sie dürfen die Achsen nicht überschreiten',\n",
       " 'Die Kraft, die nötig ist, um ein geschlossenes Gehäuse ohne Beschädigung oder Deformation wieder zu öffnen',\n",
       " 'CW 129 C',\n",
       " 'Drei Gehäusegruppen.',\n",
       " \"TLF steht wahrscheinlich für 'Technischer Leitfaden'.\",\n",
       " 'Wegen der Exposition gegenüber hohen Betriebstemperaturen im Motorraum und anderen heißen Umgebungen.',\n",
       " '(2x0,089)+(2x0,14)+(2x0,089) und (2x0,35)+(2x0,35)+(0,35)',\n",
       " 'Die Anzahl der fehlenden Drähte wird auf die Anzahl für ganze Drähte aufgerundet, basierend auf dem geforderten Prozentsatz.',\n",
       " 'Abschnitt 4.3.5 behandelt die Gestalt des Leitercrimps.',\n",
       " 'LV 112, Daimler B4-W7 75205',\n",
       " '> 80 N',\n",
       " 'In logischer Reihenfolge, beginnend mit Grundlagen, gefolgt von detaillierteren Anweisungen, Beispielen und speziellen Szenarien.',\n",
       " \"AR steht für 'Abweichungsrichtung' und bezieht sich auf verschiedene Werte der gemessenen Widerstandsänderung.\",\n",
       " 'Hohe Variabilität und niedrige Cpk-Werte sind bei Doppelcrimps üblich, da mehr Variation in der Leiterbürste, den Leiterbauch und den Enden von Drähten auftritt.',\n",
       " 'Die relative Streuung ist ein Indikator für die Prozessstabilität und wird als Quotient aus Standardabweichung und arithmetischem Mittelwert der Spitzenwerte der Gut-Crimpungen berechnet.',\n",
       " 'Leider kann ich diese Frage nicht einmal mit den bereitgestellten Informationen beantworten',\n",
       " 'Die Verpressung kann nur mittels Schliffbild ermittelt werden.',\n",
       " 'Zum Crimpen unterschiedlicher Kontakte.',\n",
       " 'Leider kann ich diese Frage nicht einmal mit den bereitgestellten Informationen beantworten',\n",
       " 'Das Resultat ist ein viel niedrigerer Pull Force-Wert, da die beiden Drähte nicht gleichmäßig gezogen werden können.',\n",
       " 'Ein Fehler bei der Positionierung der Isolation während des Crimpvorgangs.',\n",
       " 'Sichtprüfung nach DIN EN 60512-1-1.',\n",
       " 'LEONI Dacar® 540 und LEONI Dacar® 541',\n",
       " 'Er kann als Referenzmaterial dienen, um das Verständnis für betriebliche Verfahren und Techniken zu fördern.',\n",
       " 'T2 (-20 °C / +105 °C)',\n",
       " 'Staubdichtigkeitsprüfung',\n",
       " 'DIN EN 13602.',\n",
       " 'Airbag, Gurte, Pre-Crash-, Fahrwarn- und Sicherheitssysteme, Einparkhilfen, Fahrwerksicherheit, Abstandsregler etc.',\n",
       " '26,50 kg/km',\n",
       " 'Funktionale Beschädigungen oder Änderungen am Gehäuse',\n",
       " '-40 bis +105 °C',\n",
       " \"Die Angabe des Headrooms dient zur Abschätzung, ob beim Crimp-Vorgang die Zustände 'fehlende Drähte' und 'Isolation im Crimp' erkannt werden.\",\n",
       " '6 Millisekunden.',\n",
       " '35 %',\n",
       " \"Die Kategorie 'Chemische Beständigkeit, erweiterte Prüfung' (22B).\",\n",
       " '210 N',\n",
       " '0,5 mm',\n",
       " 'Leitungssart und Leitungshersteller',\n",
       " '3 Grundmaße',\n",
       " 'Verkaufsunterstützung und die Möglichkeit, Produkte oder Dienstleistungen zu erwerben.',\n",
       " 'Die Crimpflanken dürfen beim Isolationscrimp maximal im Bereich von 5° nach vorn und 3° nach hinten abkippen.',\n",
       " 'Den Übergangsbereich zwischen Leiter- und Isolationscrimp.',\n",
       " '48',\n",
       " 'Auf Seite 38.',\n",
       " '26,90 kg/km',\n",
       " 'Zur Messung der Zugkraft, die nötig ist, um einen gecrimpten Kontakt vom Draht zu trennen, um die Qualität der Crimpverbindung zu bestimmen.',\n",
       " 'Bbl 1 GS 95006-4:2012-05 und Bbl 2 GS 95006-1:2012-05.',\n",
       " '-10 °C bis +105 °C',\n",
       " 'Leider kann ich diese Frage nicht einmal mit den bereitgestellten Informationen beantworten',\n",
       " 'ISO 6722-1',\n",
       " 'GPS/Galileo, DVB, Radio, WCDMA, HSDPA, WLAN, WiUSB, WiMAX, Mobile Broadcast, Car to Car Communication.',\n",
       " 'Die Kennzeichnungen müssen eindeutig lesbar sein.',\n",
       " '3° nach jeder Seite',\n",
       " 'Im April 2017.',\n",
       " '600 mm (+/- 50 mm).',\n",
       " 'Die Crimpwerkzeug-Rückstellung anpassen.',\n",
       " 'Eine Crimpkraftkurve.',\n",
       " 'SAE J1678',\n",
       " 'LEONI Dacar® 210',\n",
       " '2,20 mm.',\n",
       " '+105 °C.',\n",
       " 'Anfangskraft (Vorkraft).',\n",
       " 'Cu verzinnt / PETP/AL / C-Schirm',\n",
       " 'Sie dient der Sicherstellung, dass die Steckverbinder die Anforderungen für ihre Anwendung im Automobilbereich erfüllen.',\n",
       " 'Original Anschlagwerkzeuge und Verschleißteile, die für den Kontakt bestimmt sind.',\n",
       " 'Hochwärmebeständig',\n",
       " 'AWG 8',\n",
       " 'Prüfung 1b: Maß- und Gewichtsprüfung',\n",
       " '150 N (180 N)',\n",
       " 'Zum Aufzeichnen von Beobachtungen, Ausnahmen oder spezifischen Details, die während des Crimp-Prozesses oder bei der Prüfung der Crimps aufgetreten sind.',\n",
       " 'Leider kann ich diese Frage nicht einmal mit den bereitgestellten Informationen beantworten',\n",
       " '30 % Isolation im Drahtcrimpbereich',\n",
       " 'Strenge Anforderung',\n",
       " 'Weichgeglühtes Elektrolytkupfer Cu-ETP1 nach DIN EN 13602',\n",
       " 'Für den Vorgang des Crimpens von elektrischen oder optischen Kabeln.',\n",
       " 'Erkennung von 10 Prozent fehlerhaften Einzeladern.',\n",
       " 'Leider kann ich diese Frage nicht einmal mit den bereitgestellten Informationen beantworten',\n",
       " '2x0,35+0,35',\n",
       " 'Leider kann ich diese Frage nicht einmal mit den bereitgestellten Informationen beantworten',\n",
       " 'Leider kann ich diese Frage nicht einmal mit den bereitgestellten Informationen beantworten',\n",
       " 'DIN EN ISO/IEC 17025',\n",
       " 'F ≤ 1,5×(max. F, Betätigungskraft des Gehäuses), jedoch ≤ 60 N',\n",
       " 'Ungefähr 6 mm',\n",
       " 'Leider kann ich diese Frage nicht einmal mit den bereitgestellten Informationen beantworten',\n",
       " 'Leider kann ich diese Frage nicht einmal mit den bereitgestellten Informationen beantworten',\n",
       " 'Bestätigung, dass alle Materialien zeichnungskonform sind.',\n",
       " 'Instrumente, die Teile messen und die Fähigkeit des Bedieners, eine Reparatur durchzuführen, wie zum Beispiel ein Mikrometer, das genauer misst als eine Schieblehre.',\n",
       " '105°C',\n",
       " 'Durch Messung der Abstützhöhe mit geeigneten Messinstrumenten oder durch Sichtprüfung, falls die Abweichung deutlich sichtbar ist.',\n",
       " '10 Hz.',\n",
       " 'In Abschnitt 4.1 findet man allgemeine Anforderungen.',\n",
       " 'SI/SI-R.',\n",
       " 'Die Stromversorgung abkoppeln, den notwendigen Schutz entfernen und die Einstellungen anpassen.',\n",
       " 'Prüfung zur Baumusterengenehmigung',\n",
       " \"Der Begriff 'OEM'.\",\n",
       " 'Dass die Isolation zu weit in den Crimpbereich ragt.',\n",
       " 'Abschnitt 5.5.2.3 und Abschnitt 5.5.1 angegeben',\n",
       " 'Möglicherweise geht es um Kriterien und Methoden zur Beurteilung von Kontaktflächen nach durchgeführten Tests, beginnend auf Seite 15',\n",
       " 'Leider kann ich diese Frage nicht einmal mit den bereitgestellten Informationen beantworten',\n",
       " \"Die Kategorie 'Leiterteilquerschnitt' (11).\",\n",
       " 'Crimping-Technologie.',\n",
       " 'Leider kann ich diese Frage nicht einmal mit den bereitgestellten Informationen beantworten',\n",
       " 'Kontakte: Steck- und Ziehkräfte, Kontakte: Steckhäufigkeit',\n",
       " 'Eine Änderung der Kabel, eine Änderung in den Terminal-Losen, eine Verklemmung in der Maschine, die das Werkzeug beschädigt hat, eine Änderung der Bediener oder eine Anpassung am Isolationscrimp.',\n",
       " 'Abschnitt 3',\n",
       " '1624 MILS',\n",
       " 'Bis 5-polig vollbestückt, ab 6-polig mindestens 5 Kontakte.',\n",
       " 'Cu blank / PETP-AL / D-Schirm',\n",
       " 'Es soll die Qualität der Verbindung hinsichtlich der Kontinuität mit einer elektrischen Leitung validiert werden.',\n",
       " '10 Kontaktpaare im Gehäuse.',\n",
       " 'Sichtprüfung gemäß DIN EN 60512-1-1',\n",
       " '48 Stunden',\n",
       " 'Die Crimpflanken müssen sich mindestens um ihre Materialstärke überdecken.',\n",
       " '1,7 mΩ',\n",
       " '630-969-4550.',\n",
       " 'Es muss mindestens eine fehlende Einzelader nach einer ersten Prüfung mit einer Anzahl von n-1 weiteren Einzeladernprüfungen erzeugt werden.',\n",
       " 'Mittelwert aller Fmax Gut-Crimp',\n",
       " 'Die Prüflinge müssen gründlich mit Wasser gespült und getrocknet werden.',\n",
       " 'Ja, Automobilhersteller dürfen Änderungen vornehmen, müssen aber nach Maßgabe dieser LV arbeiten.',\n",
       " 'Falls eine Anpassung notwendig ist, muss die Presse vom Strom getrennt und die Schutzvorrichtung entfernt werden, um die Zuführstreckenposition manuell zu prüfen und anzupassen.',\n",
       " 'Atomemissionsspektrometrie.',\n",
       " 'Leider kann ich diese Frage nicht einmal mit den bereitgestellten Informationen beantworten',\n",
       " 'Ein werkzeuggebundenes, d.h. nicht einstellbares Maß der Crimpverbindung',\n",
       " 'Molex.',\n",
       " 'nicht bestanden',\n",
       " 'Die Zuführung und den Vorschubfinger anpassen und den Vorgang wiederholen.',\n",
       " 'Abschnitt 3.2.7 beschreibt die Anbindung B von Crimps.',\n",
       " '1,9 mm',\n",
       " 'Leider kann ich diese Frage nicht einmal mit den bereitgestellten Informationen beantworten',\n",
       " 'Eine höhere Temperatur und eine längere Zeit bis die Vernetzungsübergänge abgeschlossen sind.',\n",
       " 'Mechanische Prüfungen an Kontakten und Anschlüssen - Prüfung 16h: Isolationshaltung bei Crimpverbindungen',\n",
       " 'Gb ≥ 0,5 × S',\n",
       " 'TPE-E (Thermoplastisches Polyester-Elastomer)',\n",
       " '32 kg/km',\n",
       " 'Sie ermöglicht es Nutzern, schnell zu spezifischen Abschnitten oder Informationen zu springen.',\n",
       " 'FEP (Tetrafluorethylen-Hexafluorpropylen) mit Eigenschaften gemäß ISO 6722-1, Klasse F',\n",
       " '3-%-Salzlösung, davon sind 95 % NaCl, 2,5 % MgCl und 2,5 % CaCl.',\n",
       " 'Eine Bewertung der Messfähigkeit sollte durchgeführt werden.',\n",
       " 'Der Normdruck beträgt 100 kPa.',\n",
       " 'LEONI Adascar® Sensor 110 und LEONI Adascar® Sensor 1401 haben beide einen Leiterdurchmesser von 0,11 mm',\n",
       " 'Straßenfahrzeuge - Schutzarten (IP-Code) - Schutz gegen fremde Objekte, Wasser und Kontakt elektrische Ausströmungen',\n",
       " '11,60 mm',\n",
       " 'Dass der Leiter zu wenig abisoliert wurde.',\n",
       " '-30 bis +90 °C',\n",
       " '6 ms',\n",
       " 'Zur Verdratung innerhalb des Motorraums und als Kraftstoffniveaugeber-Leitung',\n",
       " 'Die Prüfung muss mit einer neuen Charge wiederholt werden.',\n",
       " 'Den Winkel, in dem die Crimpflanken die Isolation des Drahtes umschließen.',\n",
       " 'ISO 6722-1',\n",
       " 'Zum Beispiel Klimakompressoren, elektrische Heizung und HV-Batterie.',\n",
       " 'process capability index (Prozessfähigkeitsindex)',\n",
       " 'Leider kann ich diese Frage nicht einmal mit den bereitgestellten Informationen beantworten',\n",
       " 'Sie basiert auf der Annahme einer normalen Verteilung und schätzt die Wahrscheinlichkeit, dass eine Messung außerhalb der Spezifikation liegt.',\n",
       " 'Zu beurteilen.',\n",
       " 'Wesentliche Gewichtseinsparung',\n",
       " 'Sie steigt von 108 N auf 200 N.',\n",
       " 'TPE-U (Thermoplastisches Polyurethan-Elastomer)',\n",
       " 'Die Richtung der Leitungszugbelegung ist parallel zur größten Ausdehnung der Crimpverbindung zu legen.',\n",
       " 'Die Gehäuse sind zu öffnen.',\n",
       " 'Eine Stromunterbrechung ist vorhanden, wenn die Widerstandserhöhung Zeitraum von größer 1 µs und größer 7 Ω ist.',\n",
       " '5 mehr Einzeldrähte (24 im Vergleich zu 19)',\n",
       " 'Seite 91',\n",
       " 'DIN EN 60512-1-1 für die Sichtprüfung und DIN EN 60512-2-1/DIN EN 60512-2-2 für den Durchgangswiderstand.',\n",
       " \"Die zwei Zustände sind 'fehlende Drähte' und 'Isolation im Crimp'.\",\n",
       " '100.000',\n",
       " 'Ein loses Werkzeug könnte darauf hinweisen, dass Unregelmäßigkeiten erst nach Tausenden von Crimps bemerkt werden.',\n",
       " 'Die Prüfgruppe muss diesen Längen entsprechen.',\n",
       " 'Nachweis der Korrektionsarbeit und der Kontaktverriegelungen.',\n",
       " '-40°C',\n",
       " 'Die Rückstellung auf das Ziel justieren.',\n",
       " 'Silber mit 10,5 g/cm³.',\n",
       " 'Weil es eine schnelle, zerstörungsfreie Messung ist und kritisch für die Zuverlässigkeit der Verbindung ist.',\n",
       " 'Leider kann ich diese Frage nicht einmal mit den bereitgestellten Informationen beantworten',\n",
       " '19',\n",
       " 'Es kann zu elektrischen oder mechanischen Zuverlässigkeitsproblemen kommen, da die Isolation nicht optimal gepresst ist.',\n",
       " 'DIN ISO 1629 und DIN 7728',\n",
       " '0,9 mΩ',\n",
       " 'Leider kann ich diese Frage nicht einmal mit den bereitgestellten Informationen beantworten',\n",
       " '> 40 N',\n",
       " 'Eine unzureichende Materialverdrängung kann zu einem schwachen Crimp führen, der möglicherweise nicht die erforderliche elektrische und mechanische Verbindung gewährleistet.',\n",
       " '40 mm',\n",
       " \"Ein möglicher Fehler im Crimp-Prozess, wie 'fehlende Einzeldrähte' oder 'Isolation im Drahtcrimp'\",\n",
       " 'Sie verhindert eine plötzliche Anwendung der Kraft, die die Messergebnisse verfälschen könnte.',\n",
       " 'Es wird für die visuelle Bewertung und die statistische Messung verschiedener Merkmale wie Bellmouth, Cut-off-Tab, Leiterbürste, Drahtposition und Ablängenlänge verwendet.',\n",
       " 'Die Kälteflexibilität gemäß ISO 6722-1 bei -50°C',\n",
       " '3x(0,14)+4x0,14+2x0,5+2x0,75+0,14',\n",
       " 'Vernetzte polymere Weich- und Hartsegemente, Gummi-elastisches Verhalten im Bereich der Gebrauchstemperatur, Deformierbarkeit im Bereich der Gebrauchstemperatur, keine thermoplastisches Fließverhalten – die vernetzte Struktur bleibt weit über die Gebrauchstemperatur bis zur Zersetzungstemperatur erhalten.',\n",
       " 'Die Isolationscrimphöhe lockern.',\n",
       " 'XLPE',\n",
       " 'Sie können die Bestückbarkeit im Gehäuse und die Steckfunktion des Kontaktes beeinträchtigen.',\n",
       " 'Sie gibt Maßsprünge und Crimp\\xadqualität vor, einschließlich Crimpmaße des Schiefflächennach\\xadabschnitts.',\n",
       " 'Seite 86',\n",
       " 'F ≤ 50 N, bei Messwerte ± 0,5 N',\n",
       " 'Wärmedruckbeständige Leitung',\n",
       " 'Anhänge, Glossar, Index oder Referenzen zu weiterführenden Materialien.',\n",
       " 'Mittig im Drahtcrimp mit geeigneten Messmitteln',\n",
       " 'Es dürfen keine funktionalen Abweichungen eingetreten sein.',\n",
       " 'LEONI Adascar® Truck 14701',\n",
       " 'Leider kann ich diese Frage nicht einmal mit den bereitgestellten Informationen beantworten',\n",
       " 'Irregulärer Draht wird aus der Isolation herausgezogen.',\n",
       " 'Standardabweichung.',\n",
       " '2019',\n",
       " 'Er bestimmt die Länge des freiliegenden Leiters, nachdem die Isolierung entfernt wurde, und ermöglicht das Zentrieren der Isolationsposition.',\n",
       " 'Den maximalen Außendurchmesser des Kabels in Millimetern',\n",
       " 'Abstand des gemittelten Spitzenwerts der Gut-Crimps und des gemittelten Spitzenwerts der Leer-Crimps',\n",
       " '-65 °C bis +210 °C',\n",
       " '100 ± 5 mm.',\n",
       " 'Nach Abschluss der Prüfung dürfen an den funktionalen Oberflächen keine Beeinträchtigungen festzustellen sein.',\n",
       " 'Etwa 300 Newton',\n",
       " '-40 °C bis +85 °C für TWP und -40 °C bis +125 °C für TXL',\n",
       " '8,9 g/cm³',\n",
       " 'Sie hilft Benutzern, spezifische Informationen schnell zu finden und sicherzustellen, dass alle Seiten des Dokuments vorhanden sind.',\n",
       " '+180 °C',\n",
       " 'Leider kann ich diese Frage nicht einmal mit den bereitgestellten Informationen beantworten',\n",
       " 'Das Kabel mit 4,80 mm Schirmdurchmesser und 7,10 mm Manteldurchmesser',\n",
       " 'Leider kann ich diese Frage nicht einmal mit den bereitgestellten Informationen beantworten',\n",
       " 'PP',\n",
       " 'Es könnten höhere Anforderungen an die Leistungsfähigkeit und Zuverlässigkeit gestellt werden.',\n",
       " 'Eine Verschiebung nach einem Jam würde wahrscheinlich keine Anpassung anzeigen, aber eine gründliche Bewertung der Werkzeuge.',\n",
       " 'Kraft',\n",
       " 'Es kann zu einer inkonsistenten Crimpqualität und potenziellen elektrischen Fehlern führen.',\n",
       " 'Variabilität beeinflusst die Interaktionen zwischen Terminal, Draht und Werkzeug und kann das Endergebnis beeinflussen.',\n",
       " 'Der Wertebereich des Fähigkeitsindex kann von unter 0 bis unendlich reichen, wobei ein Wert über 1,33 als akzeptabel für die meisten Anwendungen gilt.',\n",
       " 'Maximal 10 Sekunden',\n",
       " '-50 °C bis +125 °C',\n",
       " 'Mittelwert Crimp-Kraftkurve Leer-Crimp',\n",
       " 'Headroom = (1 - (ZL / ZG)) * 100%.',\n",
       " '1 Oktave/Minute',\n",
       " 'Stellen Sie die Position des Zuführschachts ein.',\n",
       " 'Papier, getünchtes, überzogenes oder umflochtenes Material.',\n",
       " 'Leiterausreiβkraft',\n",
       " '48 Stunden',\n",
       " 'Schwingprüfungen je nach Schärfegrad (V1 – V6)',\n",
       " '2,54 mm.',\n",
       " 'Die korrekte Position des Kontakts in einer Crimppresse während des Crimpvorgangs.',\n",
       " 'Arbeitsfähigkeit der Oberflächenveredelung (zerstörende Prüfung)',\n",
       " '10',\n",
       " 'Details zu Testbedingungen, Ausrüstungsanomalien oder spezifische Parameter, die außerhalb der Norm liegen.',\n",
       " 'Eingangsprüfung',\n",
       " '≥ 0,5 × S',\n",
       " 'Durch die Dauer der Schwingungsbelastung und die Temperaturabhängigkeit, wobei die Temperatur über 150°C nicht mehr als die oberhalb der ausgewählten Temperaturklasse liegt.',\n",
       " 'bestanden',\n",
       " 'Die Kontakte müssen in Reihe geschaltet werden',\n",
       " 'Wenn die Ursache der Verschiebung im Prozess identifiziert wurde und dies eine Anpassung rechtfertigt.',\n",
       " '0,75 mm',\n",
       " 'ZG ist der arithmetische Mittelwert der Spitzenwerte der Gut-Crimpungen.',\n",
       " 'Die Isolationsposition bezieht sich auf den Bereich des Anschlusses, an dem die Isolierung des Drahtes im Kontaktstück befestigt wird.',\n",
       " 'Um sicherzustellen, dass alle Mitarbeiter die gleichen Informationen und Anweisungen für ihre Arbeit haben.',\n",
       " 'Ausgelegt für 600 V AC / 900 V DC.',\n",
       " '10 mm².',\n",
       " 'Die Migration von Weichmachern aus dem PVC, was zu Veränderungen der Materialeigenschaften führen kann.',\n",
       " 'LEONI Adascar® Truck 11024',\n",
       " '0,8 (als 80% des ursprünglichen Stromwertes).',\n",
       " '0.8128 mm',\n",
       " 'Sowohl einseitig gerichtete als auch bidirektionale Datenkommunikation.',\n",
       " 'Leider kann ich diese Frage nicht einmal mit den bereitgestellten Informationen beantworten',\n",
       " \"Arbeitskreis 4.3.2, 'Kontaktierungs- und Verbindungstechnologie'.\",\n",
       " 'PVC (Polyvinylchlorid)',\n",
       " 'Der Punkt, an dem die Kurve die gestrichelte Linie für Fmax schneidet',\n",
       " '2 Jahre',\n",
       " 'Eine Verbindung des Kontaktelementes mit einer Einzelleiterabdichtung.',\n",
       " '3',\n",
       " 'Ungefähr 6 Zoll (152 mm) lang.',\n",
       " 'Der Durchgangswiderstand darf maximal den 1,5-fachen Ausgangswert erreichen.',\n",
       " '0,95 mm',\n",
       " '19 Drähte',\n",
       " 'Siehe Abschnitt 5.2',\n",
       " 'V5',\n",
       " 'Leider kann ich diese Frage nicht einmal mit den bereitgestellten Informationen beantworten',\n",
       " 'Leider kann ich diese Frage nicht einmal mit den bereitgestellten Informationen beantworten',\n",
       " 'DIN EN ISO/IEC 17025.',\n",
       " 'Mindestens 10 Kontaktakte, maximaler Leitungsquerschnitt, sonst nicht anders festgelegt.',\n",
       " 'Audi AG, Daimler AG, Porsche AG und Volkswagen AG.',\n",
       " 'Slow-Motion-Prüfung',\n",
       " 'Der Nennstrom wird als der Strom definiert, der bei 80 °C für Kontakte bis zu einem Temperaturanstieg von 130 °C führt.',\n",
       " 'Wärmedruckbeständigkeitstest bei 120 °C',\n",
       " '-40 °C bis +105 °C',\n",
       " '6 mm²',\n",
       " 'CFE ≤ 0,5 × S',\n",
       " 'Die Kräfte, die beim Einstecken und Entfernen von Kontakten auftreten, sowie die Anzahl der Steckzyklen, die ein Kontakt aushalten kann.',\n",
       " 'Hohe Korrosions- und Temperaturbeständigkeit.',\n",
       " '58,58 m/Ωmm²',\n",
       " 'Das Durchführen eines Set-up-Verfahrens für einen optimalen Crimp kann die Anzahl der benötigten Wiederholungen reduzieren.',\n",
       " 'Schwarz mit gelber Kennzeichnung',\n",
       " '50,00 Ω',\n",
       " 'Wenn bei der elektromikroskopischen Untersuchung bei stärkerer Vergrößerung eine deutliche Schadenskunde auszumachen ist und die Absicherung der Restschichtdicke im Kontakt nicht mit ausreichendem Maß erfolgt.',\n",
       " 'Weichgeglühtes Elektrolytkupfer Cu-ETP1 nach DIN EN 13602',\n",
       " 'Weichgeglühtes Elektrolytkupfer, Cu-ETP1 nach JIS C 3102, blank',\n",
       " 'Gedichtete Systeme, die temporär unterhalb des Wasserniveaus eingesetzt werden können und sich z. B. in exponierter Lage am Fahrzeugunterboden befinden.',\n",
       " 'CD-Wechsler, Multimedia-/MP3-Player, TFT, Rückfahrkamera-System, Bus-Systeme, Flexray/FireWire/CAN/USB, LVDS, Handy-Interface und iPod.',\n",
       " 'Flankendendabstand (Fja)',\n",
       " 'Optische Messung',\n",
       " 'Der Leitercrimp muss über die gesamte Länge, zwischen den Ausläufen vorn und hinten, geschlossen sein.',\n",
       " 'Spritzhäute, Werkzeugversatz und Trenngrate dürfen die Handhabung und Funktion nicht beeinträchtigen.',\n",
       " 'Die Messung muss mit Freifeldbedingungen erfolgen.',\n",
       " 'Leider kann ich diese Frage nicht einmal mit den bereitgestellten Informationen beantworten',\n",
       " 'Leider kann ich diese Frage nicht einmal mit den bereitgestellten Informationen beantworten',\n",
       " 'Mittelwert Crimp-Kraftkurve Gut-Crimp',\n",
       " 'Optische Messung und Stiftleppenposition.',\n",
       " '26 Stränge',\n",
       " 'Kontaktidentifikation, Crimpdaten, Leitungsquerschnitt, Leitungstyp, Messaufbau, Ergebnisse wie Streuungen, Headroom, Einzelnachweise, Mittelwert und Standardabweichung der Spitzenwerte.',\n",
       " 'Die Anzahl der Ausschläge kann Hinweise auf die Häufigkeit von Ereignissen oder Aktivitäten innerhalb des überwachten Zeitraums geben.',\n",
       " 'Leider kann ich diese Frage nicht einmal mit den bereitgestellten Informationen beantworten',\n",
       " 'Weil die speziellen Ursachen/Effekte eines Prozesses unregelmäßig und unvorhersehbar sind.',\n",
       " 'Der Bend Test dient dazu, die Isolationsfestigkeit der Verbindung mehrmals zu prüfen, indem das Kabel mehrere Male in verschiedene Richtungen gebogen wird.',\n",
       " '9 580 340 ..., 9 598 340 ..., N3AA AEJID 5003, N3AA AEJID 5006',\n",
       " 'Erstens zur Sicherstellung der elektrischen und mechanischen Zuverlässigkeit, und zweitens, weil die Menge der Setup-Proben normalerweise klein ist und begrenzte statistische Werte hat.',\n",
       " '30 g',\n",
       " '145 N/mm²',\n",
       " 'Ja, nach jedem Wechsel der Meterware',\n",
       " 'Leider kann ich diese Frage nicht einmal mit den bereitgestellten Informationen beantworten',\n",
       " '> 30 N',\n",
       " 'Schirmung (Fadenwicklungs-/Schirmung)',\n",
       " 'MΩ steht für Megaohm, eine Maßeinheit für den elektrischen Widerstand.',\n",
       " 'Er bietet systematische Verfahren und Checklisten zur Fehlersuche und -behebung.',\n",
       " '80 N',\n",
       " 'Die Moleküle werden mit Hilfe eines Vernetzers netzwerkartig miteinander verknüpft.',\n",
       " 'Funktion der Sekundärverriegelung/Rastspit (mit neuen Gehäusen, siehe Losgröße).',\n",
       " \"Die Regel 'E' ist relevant, wenn der Kontaktwiderstand (≤ 8,13 mΩ) als Leitungsquerschnittszahl relevant ist.\",\n",
       " '12',\n",
       " 'Kontakt- und Oberflächenanalyse, Gehäuse und Dichtelemente',\n",
       " '15 mm',\n",
       " '1 Hz',\n",
       " 'Es kann zu einem unzureichenden Kontakt und möglicherweise zu elektrischen Ausfällen führen.',\n",
       " 'Analyse',\n",
       " 'Der Weg repräsentiert den Verlauf des Crimp-Prozesses in Bezug auf die Distanz, die das Crimpwerkzeug zurücklegt.',\n",
       " 'Seite 50',\n",
       " 'Ummantelte Leitungen bieten zusätzlichen Schutz vor physischen Schäden und Umwelteinflüssen.',\n",
       " 'Der Winkel, der bei der Abstützung des Crimps auftritt.',\n",
       " '3-mal',\n",
       " '80 °C',\n",
       " 'Weg',\n",
       " '0,81 mm',\n",
       " 'DIN EN 60243',\n",
       " '54,4 Ω/km',\n",
       " 'PETP-AL / D-Schirm',\n",
       " '60% IACS im Vergleich zu 100% IACS bei Kupfer',\n",
       " 'Die Verbesserung der Molekül-Kette, um eine höhere Beständigkeit gegen Umwelteinflüsse zu erreichen.',\n",
       " 'Die Messwerte müssen dokumentiert werden.',\n",
       " 'Position Einzeldrahtabdichtung und Trenntest/Stanzgrat',\n",
       " 'Leider kann ich diese Frage nicht einmal mit den bereitgestellten Informationen beantworten',\n",
       " 'PFA',\n",
       " 'Nach jedem Wechsel der Kontakte',\n",
       " 'Isolationsmaterialklasse A',\n",
       " 'Die Möglichkeit einer Bauteil-Verlängerung.',\n",
       " 'DIN EN 60068-2-14',\n",
       " 'In den USA.',\n",
       " 'Koaxialleitungen und Hochvolt Leitungen (asymmetrische Kabel) für Anlagen aller Spezial- und Standardapplikationen.',\n",
       " 'Temperaturbereich nach ISO 6722-1',\n",
       " 'Sie erhöht sich um 250 N, von 310 N auf 560 N.',\n",
       " 'Kennfarbe, Langstreifen und eine dritte Kennfarbe',\n",
       " ...]"
      ]
     },
     "execution_count": 40,
     "metadata": {},
     "output_type": "execute_result"
    }
   ],
   "source": [
    "dataset['train']['ground_truth']"
   ]
  },
  {
   "cell_type": "code",
   "execution_count": 31,
   "metadata": {},
   "outputs": [
    {
     "data": {
      "text/plain": [
       "[8, 69]"
      ]
     },
     "execution_count": 31,
     "metadata": {},
     "output_type": "execute_result"
    }
   ],
   "source": [
    "dataset['train']['page'][:2]"
   ]
  },
  {
   "cell_type": "code",
   "execution_count": 33,
   "metadata": {},
   "outputs": [
    {
     "data": {
      "text/plain": [
       "[['GS 95006-7-5 Kfz-Kontaktierungen Überwachungskriterien von Crimp-1',\n",
       "  'GS 95006-7-5 Kfz-Kontaktierungen Überwachungskriterien von Crimp-1',\n",
       "  'GS 95006-7-5 Kfz-Kontaktierungen Überwachungskriterien von Crimp-1'],\n",
       " ['leoni_fahrzeugleitungen',\n",
       "  'leoni_fahrzeugleitungen',\n",
       "  'leoni_fahrzeugleitungen']]"
      ]
     },
     "execution_count": 33,
     "metadata": {},
     "output_type": "execute_result"
    }
   ],
   "source": [
    "dataset['train']['contexts_documents'][:2]"
   ]
  },
  {
   "cell_type": "code",
   "execution_count": 34,
   "metadata": {},
   "outputs": [
    {
     "data": {
      "text/plain": [
       "[[8, 9, 14], [69, 52, 51]]"
      ]
     },
     "execution_count": 34,
     "metadata": {},
     "output_type": "execute_result"
    }
   ],
   "source": [
    "dataset['train']['contexts_pages'][:2]"
   ]
  },
  {
   "cell_type": "code",
   "execution_count": 1,
   "metadata": {},
   "outputs": [],
   "source": [
    "from trl import SFTTrainer, DataCollatorForCompletionOnlyLM\n",
    "from transformers import AutoTokenizer, AutoModelForCausalLM"
   ]
  },
  {
   "cell_type": "code",
   "execution_count": 2,
   "metadata": {},
   "outputs": [
    {
     "name": "stderr",
     "output_type": "stream",
     "text": [
      "Special tokens have been added in the vocabulary, make sure the associated word embeddings are fine-tuned or trained.\n"
     ]
    }
   ],
   "source": [
    "tokenizer = AutoTokenizer.from_pretrained('LeoLM/leo-mistral-hessianai-7b-chat')\n",
    "# model = AutoModelForCausalLM.from_pretrained('LeoLM/leo-mistral-hessianai-7b-chat')"
   ]
  },
  {
   "cell_type": "code",
   "execution_count": 3,
   "metadata": {},
   "outputs": [
    {
     "data": {
      "text/plain": [
       "2"
      ]
     },
     "execution_count": 3,
     "metadata": {},
     "output_type": "execute_result"
    }
   ],
   "source": [
    "tokenizer.pad_token_id"
   ]
  },
  {
   "cell_type": "code",
   "execution_count": 5,
   "metadata": {},
   "outputs": [
    {
     "data": {
      "text/plain": [
       "2"
      ]
     },
     "execution_count": 5,
     "metadata": {},
     "output_type": "execute_result"
    }
   ],
   "source": [
    "tokenizer.eos_token_id"
   ]
  },
  {
   "cell_type": "code",
   "execution_count": 3,
   "metadata": {},
   "outputs": [],
   "source": [
    "import torch\n",
    "model.eval()\n",
    "with torch.no_grad():\n",
    "    res = model(**tokenizer(['I am Dima'], return_tensors='pt'))"
   ]
  },
  {
   "cell_type": "code",
   "execution_count": 5,
   "metadata": {},
   "outputs": [
    {
     "data": {
      "text/plain": [
       "torch.Size([1, 5, 32128])"
      ]
     },
     "execution_count": 5,
     "metadata": {},
     "output_type": "execute_result"
    }
   ],
   "source": [
    "res['logits'].shape"
   ]
  },
  {
   "cell_type": "code",
   "execution_count": 6,
   "metadata": {},
   "outputs": [
    {
     "data": {
      "text/plain": [
       "tensor([[32000, 28716,  5489, 24418, 28725]])"
      ]
     },
     "execution_count": 6,
     "metadata": {},
     "output_type": "execute_result"
    }
   ],
   "source": [
    "res['logits'].argmax(-1)"
   ]
  },
  {
   "cell_type": "code",
   "execution_count": 10,
   "metadata": {},
   "outputs": [
    {
     "data": {
      "text/plain": [
       "'<|im_start|>h currentlyharm,'"
      ]
     },
     "execution_count": 10,
     "metadata": {},
     "output_type": "execute_result"
    }
   ],
   "source": [
    "tokenizer.decode([32000, 28716,  5489, 24418, 28725], skip_special_tokens=False)"
   ]
  },
  {
   "cell_type": "code",
   "execution_count": 11,
   "metadata": {},
   "outputs": [
    {
     "data": {
      "text/plain": [
       "{'input_ids': tensor([[   1,  315,  837,  384, 4250]]), 'attention_mask': tensor([[1, 1, 1, 1, 1]])}"
      ]
     },
     "execution_count": 11,
     "metadata": {},
     "output_type": "execute_result"
    }
   ],
   "source": [
    "tokenizer(['I am Dima'], return_tensors='pt')"
   ]
  },
  {
   "cell_type": "code",
   "execution_count": 13,
   "metadata": {},
   "outputs": [
    {
     "data": {
      "text/plain": [
       "','"
      ]
     },
     "execution_count": 13,
     "metadata": {},
     "output_type": "execute_result"
    }
   ],
   "source": [
    "tokenizer.convert_ids_to_tokens(28725)"
   ]
  },
  {
   "cell_type": "code",
   "execution_count": 9,
   "metadata": {},
   "outputs": [
    {
     "data": {
      "text/plain": [
       "{'bos_token': '<s>',\n",
       " 'eos_token': '</s>',\n",
       " 'unk_token': '<unk>',\n",
       " 'pad_token': '</s>',\n",
       " 'additional_special_tokens': ['<unk>',\n",
       "  '<s>',\n",
       "  '</s>',\n",
       "  '<|im_start|>',\n",
       "  '<|im_end|>']}"
      ]
     },
     "execution_count": 9,
     "metadata": {},
     "output_type": "execute_result"
    }
   ],
   "source": [
    "tokenizer.special_tokens_map"
   ]
  },
  {
   "cell_type": "code",
   "execution_count": null,
   "metadata": {},
   "outputs": [],
   "source": [
    "mode"
   ]
  },
  {
   "cell_type": "code",
   "execution_count": 4,
   "metadata": {},
   "outputs": [],
   "source": [
    "data_collator = DataCollatorForCompletionOnlyLM('-#', tokenizer=tokenizer, mlm=False)"
   ]
  },
  {
   "cell_type": "code",
   "execution_count": 10,
   "metadata": {},
   "outputs": [
    {
     "name": "stderr",
     "output_type": "stream",
     "text": [
      "Asking to truncate to max_length but no maximum length is provided and the model has no predefined maximum length. Default to no truncation.\n"
     ]
    },
    {
     "ename": "TypeError",
     "evalue": "argument 'ids': 'list' object cannot be interpreted as an integer",
     "output_type": "error",
     "traceback": [
      "\u001b[0;31m---------------------------------------------------------------------------\u001b[0m",
      "\u001b[0;31mTypeError\u001b[0m                                 Traceback (most recent call last)",
      "Cell \u001b[0;32mIn[10], line 8\u001b[0m\n\u001b[1;32m      4\u001b[0m inputs \u001b[38;5;241m=\u001b[39m tokenizer(text, return_tensors\u001b[38;5;241m=\u001b[39m\u001b[38;5;124m'\u001b[39m\u001b[38;5;124mpt\u001b[39m\u001b[38;5;124m'\u001b[39m, padding\u001b[38;5;241m=\u001b[39m\u001b[38;5;28;01mTrue\u001b[39;00m, truncation\u001b[38;5;241m=\u001b[39m\u001b[38;5;28;01mTrue\u001b[39;00m)\n\u001b[1;32m      7\u001b[0m \u001b[38;5;66;03m# Use the data collator on the tokenized text\u001b[39;00m\n\u001b[0;32m----> 8\u001b[0m collated_inputs \u001b[38;5;241m=\u001b[39m \u001b[43mdata_collator\u001b[49m\u001b[43m(\u001b[49m\u001b[43m[\u001b[49m\u001b[43minputs\u001b[49m\u001b[43m]\u001b[49m\u001b[43m)\u001b[49m\n\u001b[1;32m     10\u001b[0m \u001b[38;5;66;03m# Print the output\u001b[39;00m\n\u001b[1;32m     11\u001b[0m \u001b[38;5;28mprint\u001b[39m(collated_inputs)\n",
      "File \u001b[0;32m~/Desktop/GitHub/master_thesis_RAG_LLM/.venv/lib/python3.10/site-packages/transformers/data/data_collator.py:45\u001b[0m, in \u001b[0;36mDataCollatorMixin.__call__\u001b[0;34m(self, features, return_tensors)\u001b[0m\n\u001b[1;32m     43\u001b[0m     \u001b[38;5;28;01mreturn\u001b[39;00m \u001b[38;5;28mself\u001b[39m\u001b[38;5;241m.\u001b[39mtf_call(features)\n\u001b[1;32m     44\u001b[0m \u001b[38;5;28;01melif\u001b[39;00m return_tensors \u001b[38;5;241m==\u001b[39m \u001b[38;5;124m\"\u001b[39m\u001b[38;5;124mpt\u001b[39m\u001b[38;5;124m\"\u001b[39m:\n\u001b[0;32m---> 45\u001b[0m     \u001b[38;5;28;01mreturn\u001b[39;00m \u001b[38;5;28;43mself\u001b[39;49m\u001b[38;5;241;43m.\u001b[39;49m\u001b[43mtorch_call\u001b[49m\u001b[43m(\u001b[49m\u001b[43mfeatures\u001b[49m\u001b[43m)\u001b[49m\n\u001b[1;32m     46\u001b[0m \u001b[38;5;28;01melif\u001b[39;00m return_tensors \u001b[38;5;241m==\u001b[39m \u001b[38;5;124m\"\u001b[39m\u001b[38;5;124mnp\u001b[39m\u001b[38;5;124m\"\u001b[39m:\n\u001b[1;32m     47\u001b[0m     \u001b[38;5;28;01mreturn\u001b[39;00m \u001b[38;5;28mself\u001b[39m\u001b[38;5;241m.\u001b[39mnumpy_call(features)\n",
      "File \u001b[0;32m~/Desktop/GitHub/master_thesis_RAG_LLM/.venv/lib/python3.10/site-packages/trl/trainer/utils.py:129\u001b[0m, in \u001b[0;36mDataCollatorForCompletionOnlyLM.torch_call\u001b[0;34m(self, examples)\u001b[0m\n\u001b[1;32m    124\u001b[0m         response_token_ids_start_idx \u001b[38;5;241m=\u001b[39m idx\n\u001b[1;32m    126\u001b[0m \u001b[38;5;28;01mif\u001b[39;00m response_token_ids_start_idx \u001b[38;5;129;01mis\u001b[39;00m \u001b[38;5;28;01mNone\u001b[39;00m:\n\u001b[1;32m    127\u001b[0m     warnings\u001b[38;5;241m.\u001b[39mwarn(\n\u001b[1;32m    128\u001b[0m         \u001b[38;5;124mf\u001b[39m\u001b[38;5;124m\"\u001b[39m\u001b[38;5;124mCould not find response key `\u001b[39m\u001b[38;5;132;01m{\u001b[39;00m\u001b[38;5;28mself\u001b[39m\u001b[38;5;241m.\u001b[39mresponse_template\u001b[38;5;132;01m}\u001b[39;00m\u001b[38;5;124m` in the \u001b[39m\u001b[38;5;124m\"\u001b[39m\n\u001b[0;32m--> 129\u001b[0m         \u001b[38;5;124mf\u001b[39m\u001b[38;5;124m'\u001b[39m\u001b[38;5;124mfollowing instance: \u001b[39m\u001b[38;5;132;01m{\u001b[39;00m\u001b[38;5;28;43mself\u001b[39;49m\u001b[38;5;241;43m.\u001b[39;49m\u001b[43mtokenizer\u001b[49m\u001b[38;5;241;43m.\u001b[39;49m\u001b[43mdecode\u001b[49m\u001b[43m(\u001b[49m\u001b[43mbatch\u001b[49m\u001b[43m[\u001b[49m\u001b[38;5;124;43m\"\u001b[39;49m\u001b[38;5;124;43minput_ids\u001b[39;49m\u001b[38;5;124;43m\"\u001b[39;49m\u001b[43m]\u001b[49m\u001b[43m[\u001b[49m\u001b[43mi\u001b[49m\u001b[43m]\u001b[49m\u001b[43m)\u001b[49m\u001b[38;5;132;01m}\u001b[39;00m\u001b[38;5;124m \u001b[39m\u001b[38;5;124m'\u001b[39m\n\u001b[1;32m    130\u001b[0m         \u001b[38;5;124mf\u001b[39m\u001b[38;5;124m\"\u001b[39m\u001b[38;5;124mThis instance will be ignored in loss calculation. \u001b[39m\u001b[38;5;124m\"\u001b[39m\n\u001b[1;32m    131\u001b[0m         \u001b[38;5;124mf\u001b[39m\u001b[38;5;124m\"\u001b[39m\u001b[38;5;124mNote, if this happens often, consider increasing the `max_seq_length`.\u001b[39m\u001b[38;5;124m\"\u001b[39m\n\u001b[1;32m    132\u001b[0m     )\n\u001b[1;32m    133\u001b[0m     batch[\u001b[38;5;124m\"\u001b[39m\u001b[38;5;124mlabels\u001b[39m\u001b[38;5;124m\"\u001b[39m][i, :] \u001b[38;5;241m=\u001b[39m \u001b[38;5;28mself\u001b[39m\u001b[38;5;241m.\u001b[39mignore_index\n\u001b[1;32m    134\u001b[0m \u001b[38;5;28;01melse\u001b[39;00m:\n",
      "File \u001b[0;32m~/Desktop/GitHub/master_thesis_RAG_LLM/.venv/lib/python3.10/site-packages/transformers/tokenization_utils_base.py:3746\u001b[0m, in \u001b[0;36mPreTrainedTokenizerBase.decode\u001b[0;34m(self, token_ids, skip_special_tokens, clean_up_tokenization_spaces, **kwargs)\u001b[0m\n\u001b[1;32m   3743\u001b[0m \u001b[38;5;66;03m# Convert inputs to python lists\u001b[39;00m\n\u001b[1;32m   3744\u001b[0m token_ids \u001b[38;5;241m=\u001b[39m to_py_obj(token_ids)\n\u001b[0;32m-> 3746\u001b[0m \u001b[38;5;28;01mreturn\u001b[39;00m \u001b[38;5;28;43mself\u001b[39;49m\u001b[38;5;241;43m.\u001b[39;49m\u001b[43m_decode\u001b[49m\u001b[43m(\u001b[49m\n\u001b[1;32m   3747\u001b[0m \u001b[43m    \u001b[49m\u001b[43mtoken_ids\u001b[49m\u001b[38;5;241;43m=\u001b[39;49m\u001b[43mtoken_ids\u001b[49m\u001b[43m,\u001b[49m\n\u001b[1;32m   3748\u001b[0m \u001b[43m    \u001b[49m\u001b[43mskip_special_tokens\u001b[49m\u001b[38;5;241;43m=\u001b[39;49m\u001b[43mskip_special_tokens\u001b[49m\u001b[43m,\u001b[49m\n\u001b[1;32m   3749\u001b[0m \u001b[43m    \u001b[49m\u001b[43mclean_up_tokenization_spaces\u001b[49m\u001b[38;5;241;43m=\u001b[39;49m\u001b[43mclean_up_tokenization_spaces\u001b[49m\u001b[43m,\u001b[49m\n\u001b[1;32m   3750\u001b[0m \u001b[43m    \u001b[49m\u001b[38;5;241;43m*\u001b[39;49m\u001b[38;5;241;43m*\u001b[39;49m\u001b[43mkwargs\u001b[49m\u001b[43m,\u001b[49m\n\u001b[1;32m   3751\u001b[0m \u001b[43m\u001b[49m\u001b[43m)\u001b[49m\n",
      "File \u001b[0;32m~/Desktop/GitHub/master_thesis_RAG_LLM/.venv/lib/python3.10/site-packages/transformers/tokenization_utils_fast.py:625\u001b[0m, in \u001b[0;36mPreTrainedTokenizerFast._decode\u001b[0;34m(self, token_ids, skip_special_tokens, clean_up_tokenization_spaces, **kwargs)\u001b[0m\n\u001b[1;32m    623\u001b[0m \u001b[38;5;28;01mif\u001b[39;00m \u001b[38;5;28misinstance\u001b[39m(token_ids, \u001b[38;5;28mint\u001b[39m):\n\u001b[1;32m    624\u001b[0m     token_ids \u001b[38;5;241m=\u001b[39m [token_ids]\n\u001b[0;32m--> 625\u001b[0m text \u001b[38;5;241m=\u001b[39m \u001b[38;5;28;43mself\u001b[39;49m\u001b[38;5;241;43m.\u001b[39;49m\u001b[43m_tokenizer\u001b[49m\u001b[38;5;241;43m.\u001b[39;49m\u001b[43mdecode\u001b[49m\u001b[43m(\u001b[49m\u001b[43mtoken_ids\u001b[49m\u001b[43m,\u001b[49m\u001b[43m \u001b[49m\u001b[43mskip_special_tokens\u001b[49m\u001b[38;5;241;43m=\u001b[39;49m\u001b[43mskip_special_tokens\u001b[49m\u001b[43m)\u001b[49m\n\u001b[1;32m    627\u001b[0m clean_up_tokenization_spaces \u001b[38;5;241m=\u001b[39m (\n\u001b[1;32m    628\u001b[0m     clean_up_tokenization_spaces\n\u001b[1;32m    629\u001b[0m     \u001b[38;5;28;01mif\u001b[39;00m clean_up_tokenization_spaces \u001b[38;5;129;01mis\u001b[39;00m \u001b[38;5;129;01mnot\u001b[39;00m \u001b[38;5;28;01mNone\u001b[39;00m\n\u001b[1;32m    630\u001b[0m     \u001b[38;5;28;01melse\u001b[39;00m \u001b[38;5;28mself\u001b[39m\u001b[38;5;241m.\u001b[39mclean_up_tokenization_spaces\n\u001b[1;32m    631\u001b[0m )\n\u001b[1;32m    632\u001b[0m \u001b[38;5;28;01mif\u001b[39;00m clean_up_tokenization_spaces:\n",
      "\u001b[0;31mTypeError\u001b[0m: argument 'ids': 'list' object cannot be interpreted as an integer"
     ]
    }
   ],
   "source": [
    "text = [\"I am Dima-#WTF\"]\n",
    "\n",
    "# Tokenize the text\n",
    "inputs = tokenizer(text, return_tensors='pt', padding=True, truncation=True)\n",
    "\n",
    "\n",
    "# Use the data collator on the tokenized text\n",
    "collated_inputs = data_collator([inputs])\n",
    "\n",
    "# Print the output\n",
    "print(collated_inputs)"
   ]
  },
  {
   "cell_type": "code",
   "execution_count": 6,
   "metadata": {},
   "outputs": [
    {
     "data": {
      "text/plain": [
       "tensor([[    1,   315,   837,   384,  4250, 28733, 28771, 28780, 12352],\n",
       "        [    2,     2,     2,     2,     2,     2,     1,   330,  5309]])"
      ]
     },
     "execution_count": 6,
     "metadata": {},
     "output_type": "execute_result"
    }
   ],
   "source": [
    "inputs['input_ids']"
   ]
  },
  {
   "cell_type": "code",
   "execution_count": 15,
   "metadata": {},
   "outputs": [
    {
     "data": {
      "text/plain": [
       "'TF'"
      ]
     },
     "execution_count": 15,
     "metadata": {},
     "output_type": "execute_result"
    }
   ],
   "source": [
    "tokenizer.convert_ids_to_tokens(12352)"
   ]
  },
  {
   "cell_type": "code",
   "execution_count": 15,
   "metadata": {},
   "outputs": [
    {
     "name": "stderr",
     "output_type": "stream",
     "text": [
      "Special tokens have been added in the vocabulary, make sure the associated word embeddings are fine-tuned or trained.\n",
      "Asking to truncate to max_length but no maximum length is provided and the model has no predefined maximum length. Default to no truncation.\n",
      "You're using a LlamaTokenizerFast tokenizer. Please note that with a fast tokenizer, using the `__call__` method is faster than using a method to encode the text followed by a call to the `pad` method to get a padded encoding.\n"
     ]
    },
    {
     "name": "stdout",
     "output_type": "stream",
     "text": [
      "{'input_ids': tensor([[[    1,   315,   837,   384,  4250, 28733, 28771, 28780, 12352],\n",
      "         [    2,     2,     2,     2,     2,     2,     1,   390, 28715]]]), 'attention_mask': tensor([[[1, 1, 1, 1, 1, 1, 1, 1, 1],\n",
      "         [0, 0, 0, 0, 0, 0, 1, 1, 1]]]), 'labels': tensor([[[    1,   315,   837,   384,  4250, 28733, 28771, 28780, 12352],\n",
      "         [ -100,  -100,  -100,  -100,  -100,  -100,     1,   390, 28715]]])}\n"
     ]
    }
   ],
   "source": [
    "from transformers import AutoTokenizer, DataCollatorForLanguageModeling\n",
    "import torch\n",
    "\n",
    "# Initialize the tokenizer\n",
    "tokenizer = AutoTokenizer.from_pretrained(\"LeoLM/leo-mistral-hessianai-7b-chat\")\n",
    "\n",
    "# Prepare the text\n",
    "text = [\"I am Dima-#WTF\", \"asd\"]\n",
    "\n",
    "# Tokenize the text\n",
    "inputs = tokenizer(text, return_tensors='pt', padding=True, truncation=True)\n",
    "\n",
    "# Initialize the data collator\n",
    "data_collator = DataCollatorForLanguageModeling(\n",
    "    tokenizer=tokenizer,\n",
    "    mlm=False  # False because GPT-2 is not a masked language model\n",
    ")\n",
    "\n",
    "# Use the data collator on the tokenized text\n",
    "collated_inputs = data_collator([inputs])\n",
    "\n",
    "# Print the output\n",
    "print(collated_inputs)"
   ]
  },
  {
   "cell_type": "code",
   "execution_count": 14,
   "metadata": {},
   "outputs": [
    {
     "data": {
      "text/plain": [
       "tensor([[[    1,   315,   837,   384,  4250, 28733, 28771, 28780, 12352]]])"
      ]
     },
     "execution_count": 14,
     "metadata": {},
     "output_type": "execute_result"
    }
   ],
   "source": [
    "collated_inputs['input_ids']"
   ]
  },
  {
   "cell_type": "code",
   "execution_count": null,
   "metadata": {},
   "outputs": [],
   "source": [
    "SFTTrainer()"
   ]
  },
  {
   "cell_type": "code",
   "execution_count": null,
   "metadata": {},
   "outputs": [],
   "source": [
    "from transformers.trainer_utils import EvalPrediction"
   ]
  },
  {
   "cell_type": "code",
   "execution_count": 15,
   "metadata": {},
   "outputs": [
    {
     "ename": "_InactiveRpcError",
     "evalue": "<_InactiveRpcError of RPC that terminated with:\n\tstatus = StatusCode.UNAVAILABLE\n\tdetails = \"failed to connect to all addresses; last error: UNKNOWN: ipv4:77.25.23.186:53800: Failed to connect to remote host: Connection refused\"\n\tdebug_error_string = \"UNKNOWN:failed to connect to all addresses; last error: UNKNOWN: ipv4:77.25.23.186:53800: Failed to connect to remote host: Connection refused {created_time:\"2024-01-07T20:10:54.296397+01:00\", grpc_status:14}\"\n>",
     "output_type": "error",
     "traceback": [
      "\u001b[0;31m---------------------------------------------------------------------------\u001b[0m",
      "\u001b[0;31m_InactiveRpcError\u001b[0m                         Traceback (most recent call last)",
      "Cell \u001b[0;32mIn[15], line 3\u001b[0m\n\u001b[1;32m      1\u001b[0m \u001b[38;5;66;03m# from aim.hugging_face import AimCallback\u001b[39;00m\n\u001b[1;32m      2\u001b[0m \u001b[38;5;28;01mfrom\u001b[39;00m \u001b[38;5;21;01maim\u001b[39;00m \u001b[38;5;28;01mimport\u001b[39;00m Run\n\u001b[0;32m----> 3\u001b[0m aim_callback \u001b[38;5;241m=\u001b[39m \u001b[43mRun\u001b[49m\u001b[43m(\u001b[49m\u001b[43mrepo\u001b[49m\u001b[38;5;241;43m=\u001b[39;49m\u001b[38;5;124;43m'\u001b[39;49m\u001b[38;5;124;43maim://77.25.23.186:53800\u001b[39;49m\u001b[38;5;124;43m'\u001b[39;49m\u001b[43m,\u001b[49m\u001b[43m \u001b[49m\u001b[43mexperiment\u001b[49m\u001b[38;5;241;43m=\u001b[39;49m\u001b[38;5;124;43m'\u001b[39;49m\u001b[38;5;124;43myour_experiment_name\u001b[39;49m\u001b[38;5;124;43m'\u001b[39;49m\u001b[43m)\u001b[49m\n",
      "File \u001b[0;32m~/Desktop/GitHub/master_thesis_RAG_LLM/.venv/lib/python3.10/site-packages/aim/ext/exception_resistant.py:70\u001b[0m, in \u001b[0;36mnoexcept.<locals>.wrapper\u001b[0;34m(*args, **kwargs)\u001b[0m\n\u001b[1;32m     68\u001b[0m     \u001b[38;5;28;01mreturn\u001b[39;00m func(\u001b[38;5;241m*\u001b[39margs, \u001b[38;5;241m*\u001b[39m\u001b[38;5;241m*\u001b[39mkwargs)\n\u001b[1;32m     69\u001b[0m \u001b[38;5;28;01mexcept\u001b[39;00m \u001b[38;5;167;01mException\u001b[39;00m \u001b[38;5;28;01mas\u001b[39;00m e:\n\u001b[0;32m---> 70\u001b[0m     \u001b[43m_SafeModeConfig\u001b[49m\u001b[38;5;241;43m.\u001b[39;49m\u001b[43mexception_callback\u001b[49m\u001b[43m(\u001b[49m\u001b[43me\u001b[49m\u001b[43m,\u001b[49m\u001b[43m \u001b[49m\u001b[43mfunc\u001b[49m\u001b[43m)\u001b[49m\n",
      "File \u001b[0;32m~/Desktop/GitHub/master_thesis_RAG_LLM/.venv/lib/python3.10/site-packages/aim/ext/exception_resistant.py:47\u001b[0m, in \u001b[0;36m_SafeModeConfig.reraise_exception\u001b[0;34m(e, func)\u001b[0m\n\u001b[1;32m     45\u001b[0m \u001b[38;5;129m@staticmethod\u001b[39m\n\u001b[1;32m     46\u001b[0m \u001b[38;5;28;01mdef\u001b[39;00m \u001b[38;5;21mreraise_exception\u001b[39m(e: \u001b[38;5;167;01mException\u001b[39;00m, func: \u001b[38;5;28mcallable\u001b[39m):\n\u001b[0;32m---> 47\u001b[0m     \u001b[38;5;28;01mraise\u001b[39;00m e\n",
      "File \u001b[0;32m~/Desktop/GitHub/master_thesis_RAG_LLM/.venv/lib/python3.10/site-packages/aim/ext/exception_resistant.py:68\u001b[0m, in \u001b[0;36mnoexcept.<locals>.wrapper\u001b[0;34m(*args, **kwargs)\u001b[0m\n\u001b[1;32m     65\u001b[0m \u001b[38;5;129m@wraps\u001b[39m(func)\n\u001b[1;32m     66\u001b[0m \u001b[38;5;28;01mdef\u001b[39;00m \u001b[38;5;21mwrapper\u001b[39m(\u001b[38;5;241m*\u001b[39margs, \u001b[38;5;241m*\u001b[39m\u001b[38;5;241m*\u001b[39mkwargs):\n\u001b[1;32m     67\u001b[0m     \u001b[38;5;28;01mtry\u001b[39;00m:\n\u001b[0;32m---> 68\u001b[0m         \u001b[38;5;28;01mreturn\u001b[39;00m \u001b[43mfunc\u001b[49m\u001b[43m(\u001b[49m\u001b[38;5;241;43m*\u001b[39;49m\u001b[43margs\u001b[49m\u001b[43m,\u001b[49m\u001b[43m \u001b[49m\u001b[38;5;241;43m*\u001b[39;49m\u001b[38;5;241;43m*\u001b[39;49m\u001b[43mkwargs\u001b[49m\u001b[43m)\u001b[49m\n\u001b[1;32m     69\u001b[0m     \u001b[38;5;28;01mexcept\u001b[39;00m \u001b[38;5;167;01mException\u001b[39;00m \u001b[38;5;28;01mas\u001b[39;00m e:\n\u001b[1;32m     70\u001b[0m         _SafeModeConfig\u001b[38;5;241m.\u001b[39mexception_callback(e, func)\n",
      "File \u001b[0;32m~/Desktop/GitHub/master_thesis_RAG_LLM/.venv/lib/python3.10/site-packages/aim/sdk/run.py:828\u001b[0m, in \u001b[0;36mRun.__init__\u001b[0;34m(self, run_hash, repo, read_only, experiment, force_resume, system_tracking_interval, log_system_params, capture_terminal_logs)\u001b[0m\n\u001b[1;32m    819\u001b[0m \u001b[38;5;129m@noexcept\u001b[39m\n\u001b[1;32m    820\u001b[0m \u001b[38;5;28;01mdef\u001b[39;00m \u001b[38;5;21m__init__\u001b[39m(\u001b[38;5;28mself\u001b[39m, run_hash: Optional[\u001b[38;5;28mstr\u001b[39m] \u001b[38;5;241m=\u001b[39m \u001b[38;5;28;01mNone\u001b[39;00m, \u001b[38;5;241m*\u001b[39m,\n\u001b[1;32m    821\u001b[0m              repo: Optional[Union[\u001b[38;5;28mstr\u001b[39m, \u001b[38;5;124m'\u001b[39m\u001b[38;5;124mRepo\u001b[39m\u001b[38;5;124m'\u001b[39m, pathlib\u001b[38;5;241m.\u001b[39mPath]] \u001b[38;5;241m=\u001b[39m \u001b[38;5;28;01mNone\u001b[39;00m,\n\u001b[0;32m   (...)\u001b[0m\n\u001b[1;32m    826\u001b[0m              log_system_params: Optional[\u001b[38;5;28mbool\u001b[39m] \u001b[38;5;241m=\u001b[39m \u001b[38;5;28;01mFalse\u001b[39;00m,\n\u001b[1;32m    827\u001b[0m              capture_terminal_logs: Optional[\u001b[38;5;28mbool\u001b[39m] \u001b[38;5;241m=\u001b[39m \u001b[38;5;28;01mTrue\u001b[39;00m):\n\u001b[0;32m--> 828\u001b[0m     \u001b[38;5;28;43msuper\u001b[39;49m\u001b[43m(\u001b[49m\u001b[43m)\u001b[49m\u001b[38;5;241;43m.\u001b[39;49m\u001b[38;5;21;43m__init__\u001b[39;49m\u001b[43m(\u001b[49m\u001b[43mrun_hash\u001b[49m\u001b[43m,\u001b[49m\u001b[43m \u001b[49m\u001b[43mrepo\u001b[49m\u001b[38;5;241;43m=\u001b[39;49m\u001b[43mrepo\u001b[49m\u001b[43m,\u001b[49m\u001b[43m \u001b[49m\u001b[43mread_only\u001b[49m\u001b[38;5;241;43m=\u001b[39;49m\u001b[43mread_only\u001b[49m\u001b[43m,\u001b[49m\u001b[43m \u001b[49m\u001b[43mexperiment\u001b[49m\u001b[38;5;241;43m=\u001b[39;49m\u001b[43mexperiment\u001b[49m\u001b[43m,\u001b[49m\u001b[43m \u001b[49m\u001b[43mforce_resume\u001b[49m\u001b[38;5;241;43m=\u001b[39;49m\u001b[43mforce_resume\u001b[49m\u001b[43m)\u001b[49m\n\u001b[1;32m    830\u001b[0m     \u001b[38;5;28mself\u001b[39m\u001b[38;5;241m.\u001b[39m_system_resource_tracker: ResourceTracker \u001b[38;5;241m=\u001b[39m \u001b[38;5;28;01mNone\u001b[39;00m\n\u001b[1;32m    831\u001b[0m     \u001b[38;5;28;01mif\u001b[39;00m \u001b[38;5;129;01mnot\u001b[39;00m read_only:\n",
      "File \u001b[0;32m~/Desktop/GitHub/master_thesis_RAG_LLM/.venv/lib/python3.10/site-packages/aim/sdk/run.py:276\u001b[0m, in \u001b[0;36mBasicRun.__init__\u001b[0;34m(self, run_hash, repo, read_only, experiment, force_resume)\u001b[0m\n\u001b[1;32m    269\u001b[0m \u001b[38;5;28;01mdef\u001b[39;00m \u001b[38;5;21m__init__\u001b[39m(\u001b[38;5;28mself\u001b[39m, run_hash: Optional[\u001b[38;5;28mstr\u001b[39m] \u001b[38;5;241m=\u001b[39m \u001b[38;5;28;01mNone\u001b[39;00m, \u001b[38;5;241m*\u001b[39m,\n\u001b[1;32m    270\u001b[0m              repo: Optional[Union[\u001b[38;5;28mstr\u001b[39m, \u001b[38;5;124m'\u001b[39m\u001b[38;5;124mRepo\u001b[39m\u001b[38;5;124m'\u001b[39m, pathlib\u001b[38;5;241m.\u001b[39mPath]] \u001b[38;5;241m=\u001b[39m \u001b[38;5;28;01mNone\u001b[39;00m,\n\u001b[1;32m    271\u001b[0m              read_only: \u001b[38;5;28mbool\u001b[39m \u001b[38;5;241m=\u001b[39m \u001b[38;5;28;01mFalse\u001b[39;00m,\n\u001b[1;32m    272\u001b[0m              experiment: Optional[\u001b[38;5;28mstr\u001b[39m] \u001b[38;5;241m=\u001b[39m \u001b[38;5;28;01mNone\u001b[39;00m,\n\u001b[1;32m    273\u001b[0m              force_resume: \u001b[38;5;28mbool\u001b[39m \u001b[38;5;241m=\u001b[39m \u001b[38;5;28;01mFalse\u001b[39;00m,\n\u001b[1;32m    274\u001b[0m              ):\n\u001b[1;32m    275\u001b[0m     \u001b[38;5;28mself\u001b[39m\u001b[38;5;241m.\u001b[39m_resources: Optional[BasicRunAutoClean] \u001b[38;5;241m=\u001b[39m \u001b[38;5;28;01mNone\u001b[39;00m\n\u001b[0;32m--> 276\u001b[0m     \u001b[38;5;28;43msuper\u001b[39;49m\u001b[43m(\u001b[49m\u001b[43m)\u001b[49m\u001b[38;5;241;43m.\u001b[39;49m\u001b[38;5;21;43m__init__\u001b[39;49m\u001b[43m(\u001b[49m\u001b[43mrun_hash\u001b[49m\u001b[43m,\u001b[49m\u001b[43m \u001b[49m\u001b[43mrepo\u001b[49m\u001b[38;5;241;43m=\u001b[39;49m\u001b[43mrepo\u001b[49m\u001b[43m,\u001b[49m\u001b[43m \u001b[49m\u001b[43mread_only\u001b[49m\u001b[38;5;241;43m=\u001b[39;49m\u001b[43mread_only\u001b[49m\u001b[43m,\u001b[49m\u001b[43m \u001b[49m\u001b[43mforce_resume\u001b[49m\u001b[38;5;241;43m=\u001b[39;49m\u001b[43mforce_resume\u001b[49m\u001b[43m)\u001b[49m\n\u001b[1;32m    278\u001b[0m     \u001b[38;5;28mself\u001b[39m\u001b[38;5;241m.\u001b[39mmeta_attrs_tree: TreeView \u001b[38;5;241m=\u001b[39m \u001b[38;5;28mself\u001b[39m\u001b[38;5;241m.\u001b[39mmeta_tree\u001b[38;5;241m.\u001b[39msubtree(\u001b[38;5;124m'\u001b[39m\u001b[38;5;124mattrs\u001b[39m\u001b[38;5;124m'\u001b[39m)\n\u001b[1;32m    279\u001b[0m     \u001b[38;5;28mself\u001b[39m\u001b[38;5;241m.\u001b[39mmeta_run_attrs_tree: TreeView \u001b[38;5;241m=\u001b[39m \u001b[38;5;28mself\u001b[39m\u001b[38;5;241m.\u001b[39mmeta_run_tree\u001b[38;5;241m.\u001b[39msubtree(\u001b[38;5;124m'\u001b[39m\u001b[38;5;124mattrs\u001b[39m\u001b[38;5;124m'\u001b[39m)\n",
      "File \u001b[0;32m~/Desktop/GitHub/master_thesis_RAG_LLM/.venv/lib/python3.10/site-packages/aim/sdk/base_run.py:36\u001b[0m, in \u001b[0;36mBaseRun.__init__\u001b[0;34m(self, run_hash, repo, read_only, force_resume)\u001b[0m\n\u001b[1;32m     33\u001b[0m \u001b[38;5;28mself\u001b[39m\u001b[38;5;241m.\u001b[39m_lock \u001b[38;5;241m=\u001b[39m \u001b[38;5;28;01mNone\u001b[39;00m\n\u001b[1;32m     35\u001b[0m \u001b[38;5;28mself\u001b[39m\u001b[38;5;241m.\u001b[39mread_only \u001b[38;5;241m=\u001b[39m read_only\n\u001b[0;32m---> 36\u001b[0m \u001b[38;5;28mself\u001b[39m\u001b[38;5;241m.\u001b[39mrepo \u001b[38;5;241m=\u001b[39m \u001b[43mget_repo\u001b[49m\u001b[43m(\u001b[49m\u001b[43mrepo\u001b[49m\u001b[43m)\u001b[49m\n\u001b[1;32m     37\u001b[0m \u001b[38;5;28;01mif\u001b[39;00m \u001b[38;5;28mself\u001b[39m\u001b[38;5;241m.\u001b[39mread_only:\n\u001b[1;32m     38\u001b[0m     \u001b[38;5;28;01massert\u001b[39;00m run_hash \u001b[38;5;129;01mis\u001b[39;00m \u001b[38;5;129;01mnot\u001b[39;00m \u001b[38;5;28;01mNone\u001b[39;00m\n",
      "File \u001b[0;32m~/Desktop/GitHub/master_thesis_RAG_LLM/.venv/lib/python3.10/site-packages/aim/sdk/repo_utils.py:28\u001b[0m, in \u001b[0;36mget_repo\u001b[0;34m(repo)\u001b[0m\n\u001b[1;32m     26\u001b[0m         repo \u001b[38;5;241m=\u001b[39m Repo\u001b[38;5;241m.\u001b[39mfrom_path(repo, init\u001b[38;5;241m=\u001b[39m\u001b[38;5;28;01mTrue\u001b[39;00m)\n\u001b[1;32m     27\u001b[0m     \u001b[38;5;28;01melse\u001b[39;00m:\n\u001b[0;32m---> 28\u001b[0m         repo \u001b[38;5;241m=\u001b[39m \u001b[43mRepo\u001b[49m\u001b[38;5;241;43m.\u001b[39;49m\u001b[43mfrom_path\u001b[49m\u001b[43m(\u001b[49m\u001b[43mrepo\u001b[49m\u001b[43m)\u001b[49m\n\u001b[1;32m     29\u001b[0m \u001b[38;5;28;01massert\u001b[39;00m \u001b[38;5;28misinstance\u001b[39m(repo, Repo)\n\u001b[1;32m     31\u001b[0m \u001b[38;5;28;01mreturn\u001b[39;00m repo\n",
      "File \u001b[0;32m~/Desktop/GitHub/master_thesis_RAG_LLM/.venv/lib/python3.10/site-packages/aim/sdk/repo.py:208\u001b[0m, in \u001b[0;36mRepo.from_path\u001b[0;34m(cls, path, read_only, init)\u001b[0m\n\u001b[1;32m    206\u001b[0m repo \u001b[38;5;241m=\u001b[39m \u001b[38;5;28mcls\u001b[39m\u001b[38;5;241m.\u001b[39m_pool\u001b[38;5;241m.\u001b[39mget(path)\n\u001b[1;32m    207\u001b[0m \u001b[38;5;28;01mif\u001b[39;00m repo \u001b[38;5;129;01mis\u001b[39;00m \u001b[38;5;28;01mNone\u001b[39;00m:\n\u001b[0;32m--> 208\u001b[0m     repo \u001b[38;5;241m=\u001b[39m \u001b[43mRepo\u001b[49m\u001b[43m(\u001b[49m\u001b[43mpath\u001b[49m\u001b[43m,\u001b[49m\u001b[43m \u001b[49m\u001b[43mread_only\u001b[49m\u001b[38;5;241;43m=\u001b[39;49m\u001b[43mread_only\u001b[49m\u001b[43m,\u001b[49m\u001b[43m \u001b[49m\u001b[43minit\u001b[49m\u001b[38;5;241;43m=\u001b[39;49m\u001b[43minit\u001b[49m\u001b[43m)\u001b[49m\n\u001b[1;32m    209\u001b[0m     \u001b[38;5;28mcls\u001b[39m\u001b[38;5;241m.\u001b[39m_pool[path] \u001b[38;5;241m=\u001b[39m repo\n\u001b[1;32m    210\u001b[0m \u001b[38;5;28;01mreturn\u001b[39;00m repo\n",
      "File \u001b[0;32m~/Desktop/GitHub/master_thesis_RAG_LLM/.venv/lib/python3.10/site-packages/aim/sdk/repo.py:119\u001b[0m, in \u001b[0;36mRepo.__init__\u001b[0;34m(self, path, read_only, init)\u001b[0m\n\u001b[1;32m    117\u001b[0m \u001b[38;5;28;01melif\u001b[39;00m \u001b[38;5;28mself\u001b[39m\u001b[38;5;241m.\u001b[39mis_remote_path(path):\n\u001b[1;32m    118\u001b[0m     remote_path \u001b[38;5;241m=\u001b[39m path\u001b[38;5;241m.\u001b[39mreplace(\u001b[38;5;124m'\u001b[39m\u001b[38;5;124maim://\u001b[39m\u001b[38;5;124m'\u001b[39m, \u001b[38;5;124m'\u001b[39m\u001b[38;5;124m'\u001b[39m)\n\u001b[0;32m--> 119\u001b[0m     \u001b[38;5;28mself\u001b[39m\u001b[38;5;241m.\u001b[39m_client \u001b[38;5;241m=\u001b[39m \u001b[43mClient\u001b[49m\u001b[43m(\u001b[49m\u001b[43mremote_path\u001b[49m\u001b[43m)\u001b[49m\n\u001b[1;32m    120\u001b[0m     \u001b[38;5;28mself\u001b[39m\u001b[38;5;241m.\u001b[39m_remote_repo_proxy \u001b[38;5;241m=\u001b[39m RemoteRepoProxy(\u001b[38;5;28mself\u001b[39m\u001b[38;5;241m.\u001b[39m_client)\n\u001b[1;32m    121\u001b[0m     \u001b[38;5;28mself\u001b[39m\u001b[38;5;241m.\u001b[39mroot_path \u001b[38;5;241m=\u001b[39m remote_path\n",
      "File \u001b[0;32m~/Desktop/GitHub/master_thesis_RAG_LLM/.venv/lib/python3.10/site-packages/aim/ext/transport/client.py:58\u001b[0m, in \u001b[0;36mClient.__init__\u001b[0;34m(self, remote_path)\u001b[0m\n\u001b[1;32m     56\u001b[0m \u001b[38;5;28mself\u001b[39m\u001b[38;5;241m.\u001b[39m_remote_stub \u001b[38;5;241m=\u001b[39m \u001b[38;5;28;01mNone\u001b[39;00m\n\u001b[1;32m     57\u001b[0m \u001b[38;5;28mself\u001b[39m\u001b[38;5;241m.\u001b[39m_remote_worker_address \u001b[38;5;241m=\u001b[39m \u001b[38;5;28;01mNone\u001b[39;00m\n\u001b[0;32m---> 58\u001b[0m \u001b[38;5;28;43mself\u001b[39;49m\u001b[38;5;241;43m.\u001b[39;49m\u001b[43m_create_remote_channels\u001b[49m\u001b[43m(\u001b[49m\u001b[43m)\u001b[49m\n\u001b[1;32m     60\u001b[0m \u001b[38;5;28mself\u001b[39m\u001b[38;5;241m.\u001b[39m_heartbeat_sender \u001b[38;5;241m=\u001b[39m RPCHeartbeatSender(\u001b[38;5;28mself\u001b[39m)\n\u001b[1;32m     61\u001b[0m \u001b[38;5;28mself\u001b[39m\u001b[38;5;241m.\u001b[39m_heartbeat_sender\u001b[38;5;241m.\u001b[39mstart()\n",
      "File \u001b[0;32m~/Desktop/GitHub/master_thesis_RAG_LLM/.venv/lib/python3.10/site-packages/aim/ext/transport/client.py:94\u001b[0m, in \u001b[0;36mClient._create_remote_channels\u001b[0;34m(self)\u001b[0m\n\u001b[1;32m     91\u001b[0m \u001b[38;5;28mself\u001b[39m\u001b[38;5;241m.\u001b[39m_remote_router_stub \u001b[38;5;241m=\u001b[39m remote_router_pb2_grpc\u001b[38;5;241m.\u001b[39mRemoteRouterServiceStub(\u001b[38;5;28mself\u001b[39m\u001b[38;5;241m.\u001b[39m_remote_router_channel)\n\u001b[1;32m     93\u001b[0m \u001b[38;5;66;03m# check client/server version compatibility\u001b[39;00m\n\u001b[0;32m---> 94\u001b[0m \u001b[38;5;28;43mself\u001b[39;49m\u001b[38;5;241;43m.\u001b[39;49m\u001b[43m_check_remote_version_compatibility\u001b[49m\u001b[43m(\u001b[49m\u001b[43m)\u001b[49m\n\u001b[1;32m     96\u001b[0m \u001b[38;5;66;03m# get the available worker address\u001b[39;00m\n\u001b[1;32m     97\u001b[0m \u001b[38;5;28mself\u001b[39m\u001b[38;5;241m.\u001b[39m_remote_worker_address \u001b[38;5;241m=\u001b[39m \u001b[38;5;28mself\u001b[39m\u001b[38;5;241m.\u001b[39m_get_worker_address()\n",
      "File \u001b[0;32m~/Desktop/GitHub/master_thesis_RAG_LLM/.venv/lib/python3.10/site-packages/aim/ext/transport/client.py:137\u001b[0m, in \u001b[0;36mClient._check_remote_version_compatibility\u001b[0;34m(self)\u001b[0m\n\u001b[1;32m    132\u001b[0m warning_message_template \u001b[38;5;241m=\u001b[39m \u001b[38;5;124m'\u001b[39m\u001b[38;5;124mThe Aim Remote tracking server version (\u001b[39m\u001b[38;5;132;01m{}\u001b[39;00m\u001b[38;5;124m) \u001b[39m\u001b[38;5;124m'\u001b[39m \\\n\u001b[1;32m    133\u001b[0m                            \u001b[38;5;124m'\u001b[39m\u001b[38;5;124mand the Aim client version (\u001b[39m\u001b[38;5;132;01m{}\u001b[39;00m\u001b[38;5;124m) do not match.\u001b[39m\u001b[38;5;124m'\u001b[39m \\\n\u001b[1;32m    134\u001b[0m                            \u001b[38;5;124m'\u001b[39m\u001b[38;5;124mConsider upgrading either the client or remote tracking server.\u001b[39m\u001b[38;5;124m'\u001b[39m\n\u001b[1;32m    136\u001b[0m \u001b[38;5;28;01mtry\u001b[39;00m:\n\u001b[0;32m--> 137\u001b[0m     remote_version \u001b[38;5;241m=\u001b[39m \u001b[38;5;28;43mself\u001b[39;49m\u001b[38;5;241;43m.\u001b[39;49m\u001b[43mget_version\u001b[49m\u001b[43m(\u001b[49m\u001b[43m)\u001b[49m\n\u001b[1;32m    138\u001b[0m \u001b[38;5;28;01mexcept\u001b[39;00m grpc\u001b[38;5;241m.\u001b[39mRpcError \u001b[38;5;28;01mas\u001b[39;00m e:\n\u001b[1;32m    139\u001b[0m     \u001b[38;5;28;01mif\u001b[39;00m e\u001b[38;5;241m.\u001b[39mcode() \u001b[38;5;241m==\u001b[39m grpc\u001b[38;5;241m.\u001b[39mStatusCode\u001b[38;5;241m.\u001b[39mUNIMPLEMENTED:\n",
      "File \u001b[0;32m~/Desktop/GitHub/master_thesis_RAG_LLM/.venv/lib/python3.10/site-packages/aim/ext/transport/client.py:210\u001b[0m, in \u001b[0;36mClient.get_version\u001b[0;34m(self)\u001b[0m\n\u001b[1;32m    208\u001b[0m \u001b[38;5;28;01mdef\u001b[39;00m \u001b[38;5;21mget_version\u001b[39m(\u001b[38;5;28mself\u001b[39m,):\n\u001b[1;32m    209\u001b[0m     request \u001b[38;5;241m=\u001b[39m router_messages\u001b[38;5;241m.\u001b[39mVersionRequest()\n\u001b[0;32m--> 210\u001b[0m     response \u001b[38;5;241m=\u001b[39m \u001b[38;5;28;43mself\u001b[39;49m\u001b[38;5;241;43m.\u001b[39;49m\u001b[43m_remote_router_stub\u001b[49m\u001b[38;5;241;43m.\u001b[39;49m\u001b[43mget_version\u001b[49m\u001b[43m(\u001b[49m\u001b[43mrequest\u001b[49m\u001b[43m,\u001b[49m\u001b[43m \u001b[49m\u001b[43mmetadata\u001b[49m\u001b[38;5;241;43m=\u001b[39;49m\u001b[38;5;28;43mself\u001b[39;49m\u001b[38;5;241;43m.\u001b[39;49m\u001b[43m_request_metadata\u001b[49m\u001b[43m)\u001b[49m\n\u001b[1;32m    212\u001b[0m     \u001b[38;5;28;01mif\u001b[39;00m response\u001b[38;5;241m.\u001b[39mstatus \u001b[38;5;241m==\u001b[39m router_messages\u001b[38;5;241m.\u001b[39mVersionResponse\u001b[38;5;241m.\u001b[39mStatus\u001b[38;5;241m.\u001b[39mERROR:\n\u001b[1;32m    213\u001b[0m         raise_exception(response\u001b[38;5;241m.\u001b[39mexception)\n",
      "File \u001b[0;32m~/Desktop/GitHub/master_thesis_RAG_LLM/.venv/lib/python3.10/site-packages/grpc/_channel.py:1161\u001b[0m, in \u001b[0;36m_UnaryUnaryMultiCallable.__call__\u001b[0;34m(self, request, timeout, metadata, credentials, wait_for_ready, compression)\u001b[0m\n\u001b[1;32m   1146\u001b[0m \u001b[38;5;28;01mdef\u001b[39;00m \u001b[38;5;21m__call__\u001b[39m(\n\u001b[1;32m   1147\u001b[0m     \u001b[38;5;28mself\u001b[39m,\n\u001b[1;32m   1148\u001b[0m     request: Any,\n\u001b[0;32m   (...)\u001b[0m\n\u001b[1;32m   1153\u001b[0m     compression: Optional[grpc\u001b[38;5;241m.\u001b[39mCompression] \u001b[38;5;241m=\u001b[39m \u001b[38;5;28;01mNone\u001b[39;00m,\n\u001b[1;32m   1154\u001b[0m ) \u001b[38;5;241m-\u001b[39m\u001b[38;5;241m>\u001b[39m Any:\n\u001b[1;32m   1155\u001b[0m     (\n\u001b[1;32m   1156\u001b[0m         state,\n\u001b[1;32m   1157\u001b[0m         call,\n\u001b[1;32m   1158\u001b[0m     ) \u001b[38;5;241m=\u001b[39m \u001b[38;5;28mself\u001b[39m\u001b[38;5;241m.\u001b[39m_blocking(\n\u001b[1;32m   1159\u001b[0m         request, timeout, metadata, credentials, wait_for_ready, compression\n\u001b[1;32m   1160\u001b[0m     )\n\u001b[0;32m-> 1161\u001b[0m     \u001b[38;5;28;01mreturn\u001b[39;00m \u001b[43m_end_unary_response_blocking\u001b[49m\u001b[43m(\u001b[49m\u001b[43mstate\u001b[49m\u001b[43m,\u001b[49m\u001b[43m \u001b[49m\u001b[43mcall\u001b[49m\u001b[43m,\u001b[49m\u001b[43m \u001b[49m\u001b[38;5;28;43;01mFalse\u001b[39;49;00m\u001b[43m,\u001b[49m\u001b[43m \u001b[49m\u001b[38;5;28;43;01mNone\u001b[39;49;00m\u001b[43m)\u001b[49m\n",
      "File \u001b[0;32m~/Desktop/GitHub/master_thesis_RAG_LLM/.venv/lib/python3.10/site-packages/grpc/_channel.py:1004\u001b[0m, in \u001b[0;36m_end_unary_response_blocking\u001b[0;34m(state, call, with_call, deadline)\u001b[0m\n\u001b[1;32m   1002\u001b[0m         \u001b[38;5;28;01mreturn\u001b[39;00m state\u001b[38;5;241m.\u001b[39mresponse\n\u001b[1;32m   1003\u001b[0m \u001b[38;5;28;01melse\u001b[39;00m:\n\u001b[0;32m-> 1004\u001b[0m     \u001b[38;5;28;01mraise\u001b[39;00m _InactiveRpcError(state)\n",
      "\u001b[0;31m_InactiveRpcError\u001b[0m: <_InactiveRpcError of RPC that terminated with:\n\tstatus = StatusCode.UNAVAILABLE\n\tdetails = \"failed to connect to all addresses; last error: UNKNOWN: ipv4:77.25.23.186:53800: Failed to connect to remote host: Connection refused\"\n\tdebug_error_string = \"UNKNOWN:failed to connect to all addresses; last error: UNKNOWN: ipv4:77.25.23.186:53800: Failed to connect to remote host: Connection refused {created_time:\"2024-01-07T20:10:54.296397+01:00\", grpc_status:14}\"\n>"
     ]
    }
   ],
   "source": [
    "# from aim.hugging_face import AimCallback\n",
    "from aim import Run\n",
    "aim_callback = Run(repo='aim://77.25.23.186:53800', experiment='your_experiment_name')"
   ]
  },
  {
   "cell_type": "code",
   "execution_count": 12,
   "metadata": {},
   "outputs": [
    {
     "data": {
      "text/plain": [
       "<aim.sdk.adapters.hugging_face.AimCallback at 0x2b348ca00>"
      ]
     },
     "execution_count": 12,
     "metadata": {},
     "output_type": "execute_result"
    }
   ],
   "source": [
    "aim_callback.close"
   ]
  },
  {
   "cell_type": "code",
   "execution_count": 9,
   "metadata": {},
   "outputs": [],
   "source": [
    "from omegaconf import OmegaConf\n",
    "params = OmegaConf.load('../configs/train_generator_config.yaml')"
   ]
  },
  {
   "cell_type": "code",
   "execution_count": 10,
   "metadata": {},
   "outputs": [],
   "source": [
    "import sys\n",
    "sys.path.append(\"../\") "
   ]
  },
  {
   "cell_type": "code",
   "execution_count": 15,
   "metadata": {},
   "outputs": [],
   "source": [
    "from peft import LoraConfig\n",
    "from dataclasses import asdict\n",
    "from src.entities.train_generator_params import read_train_generator_params"
   ]
  },
  {
   "cell_type": "code",
   "execution_count": 12,
   "metadata": {},
   "outputs": [],
   "source": [
    "params = read_train_generator_params(params)"
   ]
  },
  {
   "cell_type": "code",
   "execution_count": 16,
   "metadata": {},
   "outputs": [
    {
     "data": {
      "text/plain": [
       "LoraConfig(peft_type=<PeftType.LORA: 'LORA'>, auto_mapping=None, base_model_name_or_path=None, revision=None, task_type=None, inference_mode=False, r=32, target_modules={'k_proj', 'gate_proj', 'o_proj', 'lm_head', 'q_proj', 'up_proj', 'v_proj', 'down_proj'}, lora_alpha=64, lora_dropout=0.05, fan_in_fan_out=False, bias='none', modules_to_save=None, init_lora_weights=True, layers_to_transform=None, layers_pattern=None, rank_pattern={}, alpha_pattern={}, megatron_config=None, megatron_core='megatron.core', loftq_config={})"
      ]
     },
     "execution_count": 16,
     "metadata": {},
     "output_type": "execute_result"
    }
   ],
   "source": [
    "LoraConfig(**asdict(params.lora_config))"
   ]
  },
  {
   "cell_type": "code",
   "execution_count": 18,
   "metadata": {},
   "outputs": [],
   "source": [
    "b = False"
   ]
  },
  {
   "cell_type": "code",
   "execution_count": 21,
   "metadata": {},
   "outputs": [],
   "source": [
    "a = not b"
   ]
  },
  {
   "cell_type": "code",
   "execution_count": 22,
   "metadata": {},
   "outputs": [
    {
     "data": {
      "text/plain": [
       "True"
      ]
     },
     "execution_count": 22,
     "metadata": {},
     "output_type": "execute_result"
    }
   ],
   "source": [
    "a"
   ]
  },
  {
   "cell_type": "code",
   "execution_count": null,
   "metadata": {},
   "outputs": [],
   "source": [
    "from transformers import MistralForCausalLM"
   ]
  }
 ],
 "metadata": {
  "kernelspec": {
   "display_name": ".venv",
   "language": "python",
   "name": "python3"
  },
  "language_info": {
   "codemirror_mode": {
    "name": "ipython",
    "version": 3
   },
   "file_extension": ".py",
   "mimetype": "text/x-python",
   "name": "python",
   "nbconvert_exporter": "python",
   "pygments_lexer": "ipython3",
   "version": "3.10.11"
  }
 },
 "nbformat": 4,
 "nbformat_minor": 2
}
